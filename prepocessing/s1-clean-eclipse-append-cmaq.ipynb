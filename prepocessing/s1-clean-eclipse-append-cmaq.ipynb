{
  "cells": [
    {
      "cell_type": "code",
      "execution_count": 5,
      "metadata": {},
      "outputs": [],
      "source": [
        "import pystac_client\n",
        "import planetary_computer\n",
        "import numpy as np\n",
        "import pandas as pd\n",
        "import geopandas as gpd\n",
        "from datetime import timedelta,date,datetime\n",
        "import matplotlib.pyplot as plt\n",
        "import dask.dataframe as dd\n",
        "#from netCDF4 import Dataset"
      ]
    },
    {
      "cell_type": "markdown",
      "metadata": {
        "nteract": {
          "transient": {
            "deleting": false
          }
        }
      },
      "source": [
        "# Order of operations:\n",
        "\n",
        "1. **dataAnalysis/clean_eclipse_append_cmaq.ipynb : pull in eclipse, make hourly average, match CMAQ to hourly eclipse data**\n",
        "\n",
        "2. dataAnalysis/clean_eclipse_find_nearest.ipynb : pull in output from #1, drop bad sensors\n",
        "\n",
        "3. testML/format_input_data.ipynb : pull in output from #2, add in reanalysis data, ndvi, crop to chicago domain\n",
        "\n",
        "4. dataAnalysis/format_input_shapefiles.ipynb: final form for monthly average data, add in zoning, put onto shapefile"
      ]
    },
    {
      "cell_type": "markdown",
      "metadata": {
        "nteract": {
          "transient": {
            "deleting": false
          }
        }
      },
      "source": [
        "# pull data using Internal API (to get the 5 min values)\n"
      ]
    },
    {
      "cell_type": "code",
      "execution_count": null,
      "metadata": {
        "jupyter": {
          "outputs_hidden": false,
          "source_hidden": false
        },
        "nteract": {
          "transient": {
            "deleting": false
          }
        }
      },
      "outputs": [],
      "source": [
        "import requests \n",
        "import json\n",
        "import pandas as pd\n",
        "\n",
        "def get_eclipse_data(devices: list, start_datetime_utc: str, end_datetime_utc: str) -> pd.DataFrame:\n",
        "    # get data from url\n",
        "    #devices = str(devices)[1:-1]\n",
        "    eclipse_raw = []\n",
        "    for device in devices:\n",
        "        url = requests.get(\"https://eclipseprowebapi.azurewebsites.net/EclipseData/GetReadingsForCustomer?CustomerName=Chicago\"\n",
        "                            \"&API_KEY=494FE543-82B7-45A2-8C1D-D9209AE45C94\"\n",
        "                            \"&BeginDateTime={}&EndDateTime={}\"\n",
        "                            \"&DeviceSubset={}\".format(start_datetime_utc, end_datetime_utc, device))\n",
        "        text = url.text\n",
        "        data_dict_list = json.loads(text)\n",
        "        if isinstance(data_dict_list, list):\n",
        "            eclipse_raw += data_dict_list\n",
        "    eclipse_raw = pd.DataFrame.from_records(eclipse_raw)\n",
        "    return eclipse_raw\n",
        "\n",
        "#devices3 = [2106, 2108, 2129, 2060, 2077, 2093, 2069]\n",
        "alldevice = [2002 2003 2004 2005 2006 2008 2009 2010 2012 2013 2014 2017 2038 2037 2042 2043 2046 2048 2049 2050 2052 2053 2054 2055 2056 2058 2060 2062 2063 2064 2065 2066 2067 2068 2069 2070 2072 2073 2074 2076 2077 2079 2080 2081 2082 2083 2084 2090 2091 2092 2093 2094 2095 2096 2097 2098 2099 2100 2101 2102 2103 2104 2105 2106 2107 2108 2110 2111 2112 2113 2115 2116 2118 2119 2120 2121 2122 2123 2124 2125 2127 2128 2129 2130 2131 2132 2134 2135 2136 2138 2139 2142 2143 2144 2150 2162 2172 2174 2175 2176 2177 2179 2182 2183 2184 2185 2191 2207 2212 2047 2137 2208 2209]\n",
        "raw = get_eclipse_data(alldevice,\"2022-02-01\",\"2021-03-01\")\n",
        "raw.to_csv('../calibrated_no2_full_data-Feb2022.csv')"
      ]
    },
    {
      "cell_type": "markdown",
      "metadata": {
        "nteract": {
          "transient": {
            "deleting": false
          }
        }
      },
      "source": [
        "# Read in data if already pulled"
      ]
    },
    {
      "cell_type": "code",
      "execution_count": 9,
      "metadata": {
        "jupyter": {
          "outputs_hidden": false,
          "source_hidden": false
        },
        "nteract": {
          "transient": {
            "deleting": false
          }
        }
      },
      "outputs": [],
      "source": [
        "df = pd.read_csv('../calibrated_no2_full_data-Feb2022.csv',index_col = 0)\n",
        "#df = pd.read_csv('calibrated_no2_full_data-Aug2021.csv',index_col = 0)"
      ]
    },
    {
      "cell_type": "code",
      "execution_count": 10,
      "metadata": {
        "jupyter": {
          "outputs_hidden": false,
          "source_hidden": false
        },
        "nteract": {
          "transient": {
            "deleting": false
          }
        }
      },
      "outputs": [],
      "source": [
        "df['DeviceId'] = df['MSRDeviceNbr']\n",
        "df['ReadingDateTimeUTC'] = pd.to_datetime(df.ReadingDateTimeUTC)\n",
        "# drop zero values\n",
        "df = df[df['CalibratedPM25']>0].reset_index(drop=True)\n",
        "df = df[df['CalibratedNO2']>0].reset_index(drop=True)"
      ]
    },
    {
      "cell_type": "code",
      "execution_count": 11,
      "metadata": {
        "jupyter": {
          "outputs_hidden": false,
          "source_hidden": false
        },
        "nteract": {
          "transient": {
            "deleting": false
          }
        }
      },
      "outputs": [],
      "source": [
        "df = df.sort_values('ReadingDateTimeUTC').reset_index(drop=True)"
      ]
    },
    {
      "cell_type": "markdown",
      "metadata": {
        "nteract": {
          "transient": {
            "deleting": false
          }
        }
      },
      "source": [
        "# Clean eclipse data\n",
        "\n",
        "Resample for 1 hour measurements, drop when less that 75% of hourly data is available"
      ]
    },
    {
      "cell_type": "code",
      "execution_count": 12,
      "metadata": {
        "jupyter": {
          "outputs_hidden": false,
          "source_hidden": false
        },
        "nteract": {
          "transient": {
            "deleting": false
          }
        }
      },
      "outputs": [
        {
          "data": {
            "text/html": [
              "<div>\n",
              "<style scoped>\n",
              "    .dataframe tbody tr th:only-of-type {\n",
              "        vertical-align: middle;\n",
              "    }\n",
              "\n",
              "    .dataframe tbody tr th {\n",
              "        vertical-align: top;\n",
              "    }\n",
              "\n",
              "    .dataframe thead th {\n",
              "        text-align: right;\n",
              "    }\n",
              "</style>\n",
              "<table border=\"1\" class=\"dataframe\">\n",
              "  <thead>\n",
              "    <tr style=\"text-align: right;\">\n",
              "      <th></th>\n",
              "      <th>DeviceId</th>\n",
              "      <th>Unnamed: 0.1</th>\n",
              "      <th>Latitude</th>\n",
              "      <th>Longitude</th>\n",
              "      <th>CO</th>\n",
              "      <th>SO2</th>\n",
              "      <th>NO2</th>\n",
              "      <th>O3</th>\n",
              "      <th>TempC</th>\n",
              "      <th>Humidity</th>\n",
              "      <th>...</th>\n",
              "      <th>PMConc05</th>\n",
              "      <th>PMConc1</th>\n",
              "      <th>PMConc25</th>\n",
              "      <th>PMConc10</th>\n",
              "      <th>PMTypSize</th>\n",
              "      <th>OutlierInd</th>\n",
              "      <th>CalibratedPM25</th>\n",
              "      <th>CalibrationVersion</th>\n",
              "      <th>CalibratedNO2</th>\n",
              "      <th>latlon</th>\n",
              "    </tr>\n",
              "  </thead>\n",
              "  <tbody>\n",
              "    <tr>\n",
              "      <th>2022-02-01 00:00:00</th>\n",
              "      <td>2110</td>\n",
              "      <td>433772.5</td>\n",
              "      <td>41.692519</td>\n",
              "      <td>-87.642557</td>\n",
              "      <td>0.422914</td>\n",
              "      <td>92.882247</td>\n",
              "      <td>114.822872</td>\n",
              "      <td>-10.843734</td>\n",
              "      <td>-0.506325</td>\n",
              "      <td>61.624400</td>\n",
              "      <td>...</td>\n",
              "      <td>304.335396</td>\n",
              "      <td>375.295272</td>\n",
              "      <td>389.482029</td>\n",
              "      <td>392.796977</td>\n",
              "      <td>0.761068</td>\n",
              "      <td>0.0</td>\n",
              "      <td>48.810000</td>\n",
              "      <td>1.0</td>\n",
              "      <td>28.130000</td>\n",
              "      <td>(-87.642557, 41.692519)</td>\n",
              "    </tr>\n",
              "    <tr>\n",
              "      <th>2022-02-01 01:00:00</th>\n",
              "      <td>2110</td>\n",
              "      <td>433760.5</td>\n",
              "      <td>41.692519</td>\n",
              "      <td>-87.642557</td>\n",
              "      <td>0.332283</td>\n",
              "      <td>91.120203</td>\n",
              "      <td>116.458009</td>\n",
              "      <td>-10.797684</td>\n",
              "      <td>-0.763563</td>\n",
              "      <td>62.828827</td>\n",
              "      <td>...</td>\n",
              "      <td>175.294201</td>\n",
              "      <td>211.202777</td>\n",
              "      <td>216.373411</td>\n",
              "      <td>217.556784</td>\n",
              "      <td>0.743783</td>\n",
              "      <td>0.0</td>\n",
              "      <td>27.961667</td>\n",
              "      <td>1.0</td>\n",
              "      <td>24.754167</td>\n",
              "      <td>(-87.642557, 41.692519)</td>\n",
              "    </tr>\n",
              "    <tr>\n",
              "      <th>2022-02-01 02:00:00</th>\n",
              "      <td>2110</td>\n",
              "      <td>433749.0</td>\n",
              "      <td>41.692519</td>\n",
              "      <td>-87.642557</td>\n",
              "      <td>0.251231</td>\n",
              "      <td>87.363045</td>\n",
              "      <td>116.586483</td>\n",
              "      <td>-10.817878</td>\n",
              "      <td>-0.420026</td>\n",
              "      <td>64.243247</td>\n",
              "      <td>...</td>\n",
              "      <td>160.998187</td>\n",
              "      <td>196.076213</td>\n",
              "      <td>202.093493</td>\n",
              "      <td>203.487209</td>\n",
              "      <td>0.752386</td>\n",
              "      <td>0.0</td>\n",
              "      <td>26.261818</td>\n",
              "      <td>1.0</td>\n",
              "      <td>21.800909</td>\n",
              "      <td>(-87.642557, 41.692519)</td>\n",
              "    </tr>\n",
              "    <tr>\n",
              "      <th>2022-02-01 03:00:00</th>\n",
              "      <td>2110</td>\n",
              "      <td>433737.5</td>\n",
              "      <td>41.692519</td>\n",
              "      <td>-87.642557</td>\n",
              "      <td>0.245910</td>\n",
              "      <td>90.350193</td>\n",
              "      <td>112.452745</td>\n",
              "      <td>-10.826465</td>\n",
              "      <td>-0.434672</td>\n",
              "      <td>64.408112</td>\n",
              "      <td>...</td>\n",
              "      <td>115.184524</td>\n",
              "      <td>139.949620</td>\n",
              "      <td>144.054443</td>\n",
              "      <td>145.003129</td>\n",
              "      <td>0.748208</td>\n",
              "      <td>0.0</td>\n",
              "      <td>20.271667</td>\n",
              "      <td>1.0</td>\n",
              "      <td>20.986667</td>\n",
              "      <td>(-87.642557, 41.692519)</td>\n",
              "    </tr>\n",
              "    <tr>\n",
              "      <th>2022-02-01 04:00:00</th>\n",
              "      <td>2110</td>\n",
              "      <td>433726.0</td>\n",
              "      <td>41.692519</td>\n",
              "      <td>-87.642557</td>\n",
              "      <td>0.239664</td>\n",
              "      <td>89.336506</td>\n",
              "      <td>114.798491</td>\n",
              "      <td>-10.848631</td>\n",
              "      <td>-0.402790</td>\n",
              "      <td>65.685203</td>\n",
              "      <td>...</td>\n",
              "      <td>115.837002</td>\n",
              "      <td>139.038997</td>\n",
              "      <td>142.137266</td>\n",
              "      <td>142.842179</td>\n",
              "      <td>0.706880</td>\n",
              "      <td>0.0</td>\n",
              "      <td>19.320909</td>\n",
              "      <td>1.0</td>\n",
              "      <td>19.657273</td>\n",
              "      <td>(-87.642557, 41.692519)</td>\n",
              "    </tr>\n",
              "    <tr>\n",
              "      <th>...</th>\n",
              "      <td>...</td>\n",
              "      <td>...</td>\n",
              "      <td>...</td>\n",
              "      <td>...</td>\n",
              "      <td>...</td>\n",
              "      <td>...</td>\n",
              "      <td>...</td>\n",
              "      <td>...</td>\n",
              "      <td>...</td>\n",
              "      <td>...</td>\n",
              "      <td>...</td>\n",
              "      <td>...</td>\n",
              "      <td>...</td>\n",
              "      <td>...</td>\n",
              "      <td>...</td>\n",
              "      <td>...</td>\n",
              "      <td>...</td>\n",
              "      <td>...</td>\n",
              "      <td>...</td>\n",
              "      <td>...</td>\n",
              "      <td>...</td>\n",
              "    </tr>\n",
              "    <tr>\n",
              "      <th>2022-02-28 19:00:00</th>\n",
              "      <td>2005</td>\n",
              "      <td>19841.0</td>\n",
              "      <td>41.852400</td>\n",
              "      <td>-87.695200</td>\n",
              "      <td>0.131526</td>\n",
              "      <td>25.941184</td>\n",
              "      <td>90.667388</td>\n",
              "      <td>0.496457</td>\n",
              "      <td>14.273356</td>\n",
              "      <td>36.533564</td>\n",
              "      <td>...</td>\n",
              "      <td>42.904932</td>\n",
              "      <td>50.097886</td>\n",
              "      <td>51.171208</td>\n",
              "      <td>51.411425</td>\n",
              "      <td>0.611187</td>\n",
              "      <td>0.0</td>\n",
              "      <td>10.376364</td>\n",
              "      <td>1.1</td>\n",
              "      <td>10.821818</td>\n",
              "      <td>(-87.6952, 41.852399999999996)</td>\n",
              "    </tr>\n",
              "    <tr>\n",
              "      <th>2022-02-28 20:00:00</th>\n",
              "      <td>2005</td>\n",
              "      <td>19830.5</td>\n",
              "      <td>41.852400</td>\n",
              "      <td>-87.695200</td>\n",
              "      <td>0.155911</td>\n",
              "      <td>18.285838</td>\n",
              "      <td>93.188930</td>\n",
              "      <td>1.046049</td>\n",
              "      <td>15.443840</td>\n",
              "      <td>32.392731</td>\n",
              "      <td>...</td>\n",
              "      <td>68.024410</td>\n",
              "      <td>81.618435</td>\n",
              "      <td>84.641723</td>\n",
              "      <td>85.319606</td>\n",
              "      <td>0.682605</td>\n",
              "      <td>0.0</td>\n",
              "      <td>14.607000</td>\n",
              "      <td>1.1</td>\n",
              "      <td>13.826000</td>\n",
              "      <td>(-87.6952, 41.852399999999996)</td>\n",
              "    </tr>\n",
              "    <tr>\n",
              "      <th>2022-02-28 21:00:00</th>\n",
              "      <td>2005</td>\n",
              "      <td>19820.0</td>\n",
              "      <td>41.852400</td>\n",
              "      <td>-87.695200</td>\n",
              "      <td>0.300000</td>\n",
              "      <td>30.113839</td>\n",
              "      <td>93.212091</td>\n",
              "      <td>0.563131</td>\n",
              "      <td>14.235972</td>\n",
              "      <td>34.277482</td>\n",
              "      <td>...</td>\n",
              "      <td>45.870443</td>\n",
              "      <td>55.375696</td>\n",
              "      <td>57.618646</td>\n",
              "      <td>58.121669</td>\n",
              "      <td>0.688906</td>\n",
              "      <td>0.0</td>\n",
              "      <td>13.629091</td>\n",
              "      <td>1.1</td>\n",
              "      <td>22.442727</td>\n",
              "      <td>(-87.6952, 41.852399999999996)</td>\n",
              "    </tr>\n",
              "    <tr>\n",
              "      <th>2022-02-28 22:00:00</th>\n",
              "      <td>2005</td>\n",
              "      <td>NaN</td>\n",
              "      <td>41.852400</td>\n",
              "      <td>-87.695200</td>\n",
              "      <td>NaN</td>\n",
              "      <td>NaN</td>\n",
              "      <td>NaN</td>\n",
              "      <td>NaN</td>\n",
              "      <td>NaN</td>\n",
              "      <td>NaN</td>\n",
              "      <td>...</td>\n",
              "      <td>NaN</td>\n",
              "      <td>NaN</td>\n",
              "      <td>NaN</td>\n",
              "      <td>NaN</td>\n",
              "      <td>NaN</td>\n",
              "      <td>NaN</td>\n",
              "      <td>NaN</td>\n",
              "      <td>NaN</td>\n",
              "      <td>NaN</td>\n",
              "      <td>(-87.6952, 41.852399999999996)</td>\n",
              "    </tr>\n",
              "    <tr>\n",
              "      <th>2022-02-28 23:00:00</th>\n",
              "      <td>2005</td>\n",
              "      <td>NaN</td>\n",
              "      <td>41.852400</td>\n",
              "      <td>-87.695200</td>\n",
              "      <td>NaN</td>\n",
              "      <td>NaN</td>\n",
              "      <td>NaN</td>\n",
              "      <td>NaN</td>\n",
              "      <td>NaN</td>\n",
              "      <td>NaN</td>\n",
              "      <td>...</td>\n",
              "      <td>NaN</td>\n",
              "      <td>NaN</td>\n",
              "      <td>NaN</td>\n",
              "      <td>NaN</td>\n",
              "      <td>NaN</td>\n",
              "      <td>NaN</td>\n",
              "      <td>NaN</td>\n",
              "      <td>NaN</td>\n",
              "      <td>NaN</td>\n",
              "      <td>(-87.6952, 41.852399999999996)</td>\n",
              "    </tr>\n",
              "  </tbody>\n",
              "</table>\n",
              "<p>66528 rows × 34 columns</p>\n",
              "</div>"
            ],
            "text/plain": [
              "                     DeviceId  Unnamed: 0.1   Latitude  Longitude        CO  \\\n",
              "2022-02-01 00:00:00      2110      433772.5  41.692519 -87.642557  0.422914   \n",
              "2022-02-01 01:00:00      2110      433760.5  41.692519 -87.642557  0.332283   \n",
              "2022-02-01 02:00:00      2110      433749.0  41.692519 -87.642557  0.251231   \n",
              "2022-02-01 03:00:00      2110      433737.5  41.692519 -87.642557  0.245910   \n",
              "2022-02-01 04:00:00      2110      433726.0  41.692519 -87.642557  0.239664   \n",
              "...                       ...           ...        ...        ...       ...   \n",
              "2022-02-28 19:00:00      2005       19841.0  41.852400 -87.695200  0.131526   \n",
              "2022-02-28 20:00:00      2005       19830.5  41.852400 -87.695200  0.155911   \n",
              "2022-02-28 21:00:00      2005       19820.0  41.852400 -87.695200  0.300000   \n",
              "2022-02-28 22:00:00      2005           NaN  41.852400 -87.695200       NaN   \n",
              "2022-02-28 23:00:00      2005           NaN  41.852400 -87.695200       NaN   \n",
              "\n",
              "                           SO2         NO2         O3      TempC   Humidity  \\\n",
              "2022-02-01 00:00:00  92.882247  114.822872 -10.843734  -0.506325  61.624400   \n",
              "2022-02-01 01:00:00  91.120203  116.458009 -10.797684  -0.763563  62.828827   \n",
              "2022-02-01 02:00:00  87.363045  116.586483 -10.817878  -0.420026  64.243247   \n",
              "2022-02-01 03:00:00  90.350193  112.452745 -10.826465  -0.434672  64.408112   \n",
              "2022-02-01 04:00:00  89.336506  114.798491 -10.848631  -0.402790  65.685203   \n",
              "...                        ...         ...        ...        ...        ...   \n",
              "2022-02-28 19:00:00  25.941184   90.667388   0.496457  14.273356  36.533564   \n",
              "2022-02-28 20:00:00  18.285838   93.188930   1.046049  15.443840  32.392731   \n",
              "2022-02-28 21:00:00  30.113839   93.212091   0.563131  14.235972  34.277482   \n",
              "2022-02-28 22:00:00        NaN         NaN        NaN        NaN        NaN   \n",
              "2022-02-28 23:00:00        NaN         NaN        NaN        NaN        NaN   \n",
              "\n",
              "                     ...    PMConc05     PMConc1    PMConc25    PMConc10  \\\n",
              "2022-02-01 00:00:00  ...  304.335396  375.295272  389.482029  392.796977   \n",
              "2022-02-01 01:00:00  ...  175.294201  211.202777  216.373411  217.556784   \n",
              "2022-02-01 02:00:00  ...  160.998187  196.076213  202.093493  203.487209   \n",
              "2022-02-01 03:00:00  ...  115.184524  139.949620  144.054443  145.003129   \n",
              "2022-02-01 04:00:00  ...  115.837002  139.038997  142.137266  142.842179   \n",
              "...                  ...         ...         ...         ...         ...   \n",
              "2022-02-28 19:00:00  ...   42.904932   50.097886   51.171208   51.411425   \n",
              "2022-02-28 20:00:00  ...   68.024410   81.618435   84.641723   85.319606   \n",
              "2022-02-28 21:00:00  ...   45.870443   55.375696   57.618646   58.121669   \n",
              "2022-02-28 22:00:00  ...         NaN         NaN         NaN         NaN   \n",
              "2022-02-28 23:00:00  ...         NaN         NaN         NaN         NaN   \n",
              "\n",
              "                     PMTypSize  OutlierInd  CalibratedPM25  \\\n",
              "2022-02-01 00:00:00   0.761068         0.0       48.810000   \n",
              "2022-02-01 01:00:00   0.743783         0.0       27.961667   \n",
              "2022-02-01 02:00:00   0.752386         0.0       26.261818   \n",
              "2022-02-01 03:00:00   0.748208         0.0       20.271667   \n",
              "2022-02-01 04:00:00   0.706880         0.0       19.320909   \n",
              "...                        ...         ...             ...   \n",
              "2022-02-28 19:00:00   0.611187         0.0       10.376364   \n",
              "2022-02-28 20:00:00   0.682605         0.0       14.607000   \n",
              "2022-02-28 21:00:00   0.688906         0.0       13.629091   \n",
              "2022-02-28 22:00:00        NaN         NaN             NaN   \n",
              "2022-02-28 23:00:00        NaN         NaN             NaN   \n",
              "\n",
              "                     CalibrationVersion  CalibratedNO2  \\\n",
              "2022-02-01 00:00:00                 1.0      28.130000   \n",
              "2022-02-01 01:00:00                 1.0      24.754167   \n",
              "2022-02-01 02:00:00                 1.0      21.800909   \n",
              "2022-02-01 03:00:00                 1.0      20.986667   \n",
              "2022-02-01 04:00:00                 1.0      19.657273   \n",
              "...                                 ...            ...   \n",
              "2022-02-28 19:00:00                 1.1      10.821818   \n",
              "2022-02-28 20:00:00                 1.1      13.826000   \n",
              "2022-02-28 21:00:00                 1.1      22.442727   \n",
              "2022-02-28 22:00:00                 NaN            NaN   \n",
              "2022-02-28 23:00:00                 NaN            NaN   \n",
              "\n",
              "                                             latlon  \n",
              "2022-02-01 00:00:00         (-87.642557, 41.692519)  \n",
              "2022-02-01 01:00:00         (-87.642557, 41.692519)  \n",
              "2022-02-01 02:00:00         (-87.642557, 41.692519)  \n",
              "2022-02-01 03:00:00         (-87.642557, 41.692519)  \n",
              "2022-02-01 04:00:00         (-87.642557, 41.692519)  \n",
              "...                                             ...  \n",
              "2022-02-28 19:00:00  (-87.6952, 41.852399999999996)  \n",
              "2022-02-28 20:00:00  (-87.6952, 41.852399999999996)  \n",
              "2022-02-28 21:00:00  (-87.6952, 41.852399999999996)  \n",
              "2022-02-28 22:00:00  (-87.6952, 41.852399999999996)  \n",
              "2022-02-28 23:00:00  (-87.6952, 41.852399999999996)  \n",
              "\n",
              "[66528 rows x 34 columns]"
            ]
          },
          "execution_count": 12,
          "metadata": {},
          "output_type": "execute_result"
        }
      ],
      "source": [
        "#\n",
        "st_dt ='2022-02-01'\n",
        "end_dt ='2022-02-28 23:00:00'\n",
        "\n",
        "\n",
        "# Clean data given the number of readings -- if less than 12 readings in an hour drop\n",
        "df2 = df[['CalibratedPM25','ReadingDateTimeUTC','DeviceId']]\n",
        "df2s = df2.groupby([\"DeviceId\"]).resample(\"H\",on=\"ReadingDateTimeUTC\").count()\n",
        "under_count = (df2s.DeviceId >= 9) # use this as drop index\n",
        "\n",
        "# drop given the restrictions\n",
        "ts = df.groupby([\"DeviceId\"]).resample(\"H\",on=\"ReadingDateTimeUTC\").mean()[under_count]\n",
        "#print(ts)\n",
        "\n",
        "# reindex ts so that nan values fill up missing time steps\n",
        "ts = ts.drop(columns='DeviceId').reset_index()\n",
        "t_index = pd.DatetimeIndex(pd.date_range(start= st_dt, end= end_dt, freq='1h'))\n",
        "ids = df.DeviceId.unique()\n",
        "\n",
        "x,y = [],[] # for later use for cmaq\n",
        "ts_nomissing = pd.DataFrame()\n",
        "missing_ids = []\n",
        "# create dataframe that contains every hour of data\n",
        "for i in range(len(ids)):\n",
        "  if len(ts[ts['DeviceId'] == ids[i]]) > 0:\n",
        "    tmp = ts[ts['DeviceId'] == ids[i]].reset_index(drop=True)\n",
        "    xx = tmp.Longitude[0]; yy = tmp.Latitude[0]\n",
        "    x.append(xx); y.append(yy)\n",
        "    # reindex with complete hourly spread\n",
        "    tmp = tmp.set_index(pd.to_datetime(tmp['ReadingDateTimeUTC']))\n",
        "    tmp = tmp.resample('1h').mean().reindex(t_index).fillna(np.nan)\n",
        "    # Backfill static data\n",
        "    tmp['DeviceId'] = [ids[i]]*len(tmp)\n",
        "    tmp['Latitude'] = [yy]*len(tmp)\n",
        "    tmp['Longitude'] = [xx]*len(tmp)\n",
        "    tmp['latlon'] = [(xx,yy)]*len(tmp)\n",
        "    ts_nomissing = ts_nomissing.append(tmp)\n",
        "  else: missing_ids.append(ids[i])\n",
        "\n",
        "ts_nomissing"
      ]
    },
    {
      "cell_type": "code",
      "execution_count": 30,
      "metadata": {
        "jupyter": {
          "outputs_hidden": false,
          "source_hidden": false
        },
        "nteract": {
          "transient": {
            "deleting": false
          }
        }
      },
      "outputs": [
        {
          "name": "stdout",
          "output_type": "stream",
          "text": [
            "504.0\n",
            "18\n"
          ]
        },
        {
          "data": {
            "text/html": [
              "<div>\n",
              "<style scoped>\n",
              "    .dataframe tbody tr th:only-of-type {\n",
              "        vertical-align: middle;\n",
              "    }\n",
              "\n",
              "    .dataframe tbody tr th {\n",
              "        vertical-align: top;\n",
              "    }\n",
              "\n",
              "    .dataframe thead th {\n",
              "        text-align: right;\n",
              "    }\n",
              "</style>\n",
              "<table border=\"1\" class=\"dataframe\">\n",
              "  <thead>\n",
              "    <tr style=\"text-align: right;\">\n",
              "      <th></th>\n",
              "      <th>DeviceId</th>\n",
              "      <th>Unnamed: 0.1</th>\n",
              "      <th>Latitude</th>\n",
              "      <th>Longitude</th>\n",
              "      <th>CO</th>\n",
              "      <th>SO2</th>\n",
              "      <th>NO2</th>\n",
              "      <th>O3</th>\n",
              "      <th>TempC</th>\n",
              "      <th>Humidity</th>\n",
              "      <th>...</th>\n",
              "      <th>PM25_NO3</th>\n",
              "      <th>PM25_OC</th>\n",
              "      <th>PM25_SOIL</th>\n",
              "      <th>PM25_TOT</th>\n",
              "      <th>RH</th>\n",
              "      <th>SFC_TMP</th>\n",
              "      <th>U10</th>\n",
              "      <th>V10</th>\n",
              "      <th>VOC</th>\n",
              "      <th>precip</th>\n",
              "    </tr>\n",
              "  </thead>\n",
              "  <tbody>\n",
              "    <tr>\n",
              "      <th>0</th>\n",
              "      <td>2110</td>\n",
              "      <td>433772.5</td>\n",
              "      <td>41.692519</td>\n",
              "      <td>-87.642557</td>\n",
              "      <td>379.085999</td>\n",
              "      <td>1.888436</td>\n",
              "      <td>22.337954</td>\n",
              "      <td>19.638380</td>\n",
              "      <td>-0.506325</td>\n",
              "      <td>61.624400</td>\n",
              "      <td>...</td>\n",
              "      <td>8.612284</td>\n",
              "      <td>5.850229</td>\n",
              "      <td>4.028581</td>\n",
              "      <td>30.193928</td>\n",
              "      <td>56.167244</td>\n",
              "      <td>-0.960693</td>\n",
              "      <td>-2.073394</td>\n",
              "      <td>2.028235</td>\n",
              "      <td>81.232269</td>\n",
              "      <td>13.017584</td>\n",
              "    </tr>\n",
              "    <tr>\n",
              "      <th>1</th>\n",
              "      <td>2110</td>\n",
              "      <td>433760.5</td>\n",
              "      <td>41.692519</td>\n",
              "      <td>-87.642557</td>\n",
              "      <td>306.648407</td>\n",
              "      <td>1.709394</td>\n",
              "      <td>18.597445</td>\n",
              "      <td>21.988743</td>\n",
              "      <td>-0.763563</td>\n",
              "      <td>62.828827</td>\n",
              "      <td>...</td>\n",
              "      <td>8.272737</td>\n",
              "      <td>5.585948</td>\n",
              "      <td>3.447805</td>\n",
              "      <td>27.981869</td>\n",
              "      <td>54.093136</td>\n",
              "      <td>-1.166595</td>\n",
              "      <td>-2.117607</td>\n",
              "      <td>2.434937</td>\n",
              "      <td>70.904221</td>\n",
              "      <td>13.017584</td>\n",
              "    </tr>\n",
              "    <tr>\n",
              "      <th>2</th>\n",
              "      <td>2110</td>\n",
              "      <td>433749.0</td>\n",
              "      <td>41.692519</td>\n",
              "      <td>-87.642557</td>\n",
              "      <td>223.317184</td>\n",
              "      <td>1.172251</td>\n",
              "      <td>13.531857</td>\n",
              "      <td>26.858986</td>\n",
              "      <td>-0.420026</td>\n",
              "      <td>64.243247</td>\n",
              "      <td>...</td>\n",
              "      <td>5.597437</td>\n",
              "      <td>4.982153</td>\n",
              "      <td>2.756583</td>\n",
              "      <td>22.031319</td>\n",
              "      <td>52.089245</td>\n",
              "      <td>-0.982269</td>\n",
              "      <td>-1.845525</td>\n",
              "      <td>2.717877</td>\n",
              "      <td>52.742138</td>\n",
              "      <td>13.018102</td>\n",
              "    </tr>\n",
              "    <tr>\n",
              "      <th>3</th>\n",
              "      <td>2110</td>\n",
              "      <td>433737.5</td>\n",
              "      <td>41.692519</td>\n",
              "      <td>-87.642557</td>\n",
              "      <td>173.781204</td>\n",
              "      <td>0.866592</td>\n",
              "      <td>9.881525</td>\n",
              "      <td>30.105042</td>\n",
              "      <td>-0.434672</td>\n",
              "      <td>64.408112</td>\n",
              "      <td>...</td>\n",
              "      <td>3.920908</td>\n",
              "      <td>4.601271</td>\n",
              "      <td>2.276035</td>\n",
              "      <td>18.301626</td>\n",
              "      <td>51.223248</td>\n",
              "      <td>-0.664398</td>\n",
              "      <td>-1.776941</td>\n",
              "      <td>3.008723</td>\n",
              "      <td>40.593750</td>\n",
              "      <td>13.020221</td>\n",
              "    </tr>\n",
              "    <tr>\n",
              "      <th>4</th>\n",
              "      <td>2110</td>\n",
              "      <td>433726.0</td>\n",
              "      <td>41.692519</td>\n",
              "      <td>-87.642557</td>\n",
              "      <td>151.540924</td>\n",
              "      <td>0.810289</td>\n",
              "      <td>8.086990</td>\n",
              "      <td>30.569338</td>\n",
              "      <td>-0.402790</td>\n",
              "      <td>65.685203</td>\n",
              "      <td>...</td>\n",
              "      <td>3.328107</td>\n",
              "      <td>4.189316</td>\n",
              "      <td>2.019040</td>\n",
              "      <td>16.344429</td>\n",
              "      <td>52.620644</td>\n",
              "      <td>-0.876190</td>\n",
              "      <td>-1.608718</td>\n",
              "      <td>3.212271</td>\n",
              "      <td>35.813900</td>\n",
              "      <td>13.020977</td>\n",
              "    </tr>\n",
              "    <tr>\n",
              "      <th>...</th>\n",
              "      <td>...</td>\n",
              "      <td>...</td>\n",
              "      <td>...</td>\n",
              "      <td>...</td>\n",
              "      <td>...</td>\n",
              "      <td>...</td>\n",
              "      <td>...</td>\n",
              "      <td>...</td>\n",
              "      <td>...</td>\n",
              "      <td>...</td>\n",
              "      <td>...</td>\n",
              "      <td>...</td>\n",
              "      <td>...</td>\n",
              "      <td>...</td>\n",
              "      <td>...</td>\n",
              "      <td>...</td>\n",
              "      <td>...</td>\n",
              "      <td>...</td>\n",
              "      <td>...</td>\n",
              "      <td>...</td>\n",
              "      <td>...</td>\n",
              "    </tr>\n",
              "    <tr>\n",
              "      <th>54427</th>\n",
              "      <td>2122</td>\n",
              "      <td>484464.5</td>\n",
              "      <td>41.907237</td>\n",
              "      <td>-87.667450</td>\n",
              "      <td>187.353226</td>\n",
              "      <td>1.161368</td>\n",
              "      <td>8.784961</td>\n",
              "      <td>47.210705</td>\n",
              "      <td>13.207607</td>\n",
              "      <td>38.250987</td>\n",
              "      <td>...</td>\n",
              "      <td>4.062373</td>\n",
              "      <td>1.992491</td>\n",
              "      <td>2.111834</td>\n",
              "      <td>13.299279</td>\n",
              "      <td>32.473610</td>\n",
              "      <td>7.856628</td>\n",
              "      <td>1.065458</td>\n",
              "      <td>3.723716</td>\n",
              "      <td>39.106194</td>\n",
              "      <td>103.146843</td>\n",
              "    </tr>\n",
              "    <tr>\n",
              "      <th>54428</th>\n",
              "      <td>2122</td>\n",
              "      <td>484453.0</td>\n",
              "      <td>41.907237</td>\n",
              "      <td>-87.667450</td>\n",
              "      <td>186.167023</td>\n",
              "      <td>1.528380</td>\n",
              "      <td>9.535040</td>\n",
              "      <td>47.698246</td>\n",
              "      <td>14.363417</td>\n",
              "      <td>33.412448</td>\n",
              "      <td>...</td>\n",
              "      <td>4.312344</td>\n",
              "      <td>1.960625</td>\n",
              "      <td>2.387036</td>\n",
              "      <td>14.242504</td>\n",
              "      <td>25.919584</td>\n",
              "      <td>9.538208</td>\n",
              "      <td>1.839942</td>\n",
              "      <td>3.929317</td>\n",
              "      <td>39.306797</td>\n",
              "      <td>103.146843</td>\n",
              "    </tr>\n",
              "    <tr>\n",
              "      <th>54429</th>\n",
              "      <td>2122</td>\n",
              "      <td>484441.5</td>\n",
              "      <td>41.907237</td>\n",
              "      <td>-87.667450</td>\n",
              "      <td>236.252121</td>\n",
              "      <td>1.384298</td>\n",
              "      <td>15.053937</td>\n",
              "      <td>43.652649</td>\n",
              "      <td>13.889643</td>\n",
              "      <td>35.235850</td>\n",
              "      <td>...</td>\n",
              "      <td>3.187061</td>\n",
              "      <td>1.953722</td>\n",
              "      <td>2.688255</td>\n",
              "      <td>13.258142</td>\n",
              "      <td>23.745136</td>\n",
              "      <td>10.767670</td>\n",
              "      <td>2.350792</td>\n",
              "      <td>2.961521</td>\n",
              "      <td>54.044193</td>\n",
              "      <td>103.146843</td>\n",
              "    </tr>\n",
              "    <tr>\n",
              "      <th>54430</th>\n",
              "      <td>2122</td>\n",
              "      <td>484430.0</td>\n",
              "      <td>41.907237</td>\n",
              "      <td>-87.667450</td>\n",
              "      <td>297.313232</td>\n",
              "      <td>1.447433</td>\n",
              "      <td>21.984911</td>\n",
              "      <td>36.636028</td>\n",
              "      <td>12.306082</td>\n",
              "      <td>40.774536</td>\n",
              "      <td>...</td>\n",
              "      <td>1.989771</td>\n",
              "      <td>2.045493</td>\n",
              "      <td>3.256510</td>\n",
              "      <td>12.861075</td>\n",
              "      <td>23.856852</td>\n",
              "      <td>10.914764</td>\n",
              "      <td>2.086752</td>\n",
              "      <td>2.266074</td>\n",
              "      <td>70.132225</td>\n",
              "      <td>103.146843</td>\n",
              "    </tr>\n",
              "    <tr>\n",
              "      <th>54431</th>\n",
              "      <td>2122</td>\n",
              "      <td>484418.5</td>\n",
              "      <td>41.907237</td>\n",
              "      <td>-87.667450</td>\n",
              "      <td>376.500214</td>\n",
              "      <td>1.687289</td>\n",
              "      <td>33.910347</td>\n",
              "      <td>23.500872</td>\n",
              "      <td>11.037998</td>\n",
              "      <td>41.677856</td>\n",
              "      <td>...</td>\n",
              "      <td>1.537341</td>\n",
              "      <td>2.358016</td>\n",
              "      <td>4.435878</td>\n",
              "      <td>14.950837</td>\n",
              "      <td>26.662605</td>\n",
              "      <td>9.684784</td>\n",
              "      <td>1.651920</td>\n",
              "      <td>1.833484</td>\n",
              "      <td>95.520294</td>\n",
              "      <td>103.146843</td>\n",
              "    </tr>\n",
              "  </tbody>\n",
              "</table>\n",
              "<p>54432 rows × 50 columns</p>\n",
              "</div>"
            ],
            "text/plain": [
              "       DeviceId  Unnamed: 0.1   Latitude  Longitude          CO       SO2  \\\n",
              "0          2110      433772.5  41.692519 -87.642557  379.085999  1.888436   \n",
              "1          2110      433760.5  41.692519 -87.642557  306.648407  1.709394   \n",
              "2          2110      433749.0  41.692519 -87.642557  223.317184  1.172251   \n",
              "3          2110      433737.5  41.692519 -87.642557  173.781204  0.866592   \n",
              "4          2110      433726.0  41.692519 -87.642557  151.540924  0.810289   \n",
              "...         ...           ...        ...        ...         ...       ...   \n",
              "54427      2122      484464.5  41.907237 -87.667450  187.353226  1.161368   \n",
              "54428      2122      484453.0  41.907237 -87.667450  186.167023  1.528380   \n",
              "54429      2122      484441.5  41.907237 -87.667450  236.252121  1.384298   \n",
              "54430      2122      484430.0  41.907237 -87.667450  297.313232  1.447433   \n",
              "54431      2122      484418.5  41.907237 -87.667450  376.500214  1.687289   \n",
              "\n",
              "             NO2         O3      TempC   Humidity  ...  PM25_NO3   PM25_OC  \\\n",
              "0      22.337954  19.638380  -0.506325  61.624400  ...  8.612284  5.850229   \n",
              "1      18.597445  21.988743  -0.763563  62.828827  ...  8.272737  5.585948   \n",
              "2      13.531857  26.858986  -0.420026  64.243247  ...  5.597437  4.982153   \n",
              "3       9.881525  30.105042  -0.434672  64.408112  ...  3.920908  4.601271   \n",
              "4       8.086990  30.569338  -0.402790  65.685203  ...  3.328107  4.189316   \n",
              "...          ...        ...        ...        ...  ...       ...       ...   \n",
              "54427   8.784961  47.210705  13.207607  38.250987  ...  4.062373  1.992491   \n",
              "54428   9.535040  47.698246  14.363417  33.412448  ...  4.312344  1.960625   \n",
              "54429  15.053937  43.652649  13.889643  35.235850  ...  3.187061  1.953722   \n",
              "54430  21.984911  36.636028  12.306082  40.774536  ...  1.989771  2.045493   \n",
              "54431  33.910347  23.500872  11.037998  41.677856  ...  1.537341  2.358016   \n",
              "\n",
              "       PM25_SOIL   PM25_TOT         RH    SFC_TMP       U10       V10  \\\n",
              "0       4.028581  30.193928  56.167244  -0.960693 -2.073394  2.028235   \n",
              "1       3.447805  27.981869  54.093136  -1.166595 -2.117607  2.434937   \n",
              "2       2.756583  22.031319  52.089245  -0.982269 -1.845525  2.717877   \n",
              "3       2.276035  18.301626  51.223248  -0.664398 -1.776941  3.008723   \n",
              "4       2.019040  16.344429  52.620644  -0.876190 -1.608718  3.212271   \n",
              "...          ...        ...        ...        ...       ...       ...   \n",
              "54427   2.111834  13.299279  32.473610   7.856628  1.065458  3.723716   \n",
              "54428   2.387036  14.242504  25.919584   9.538208  1.839942  3.929317   \n",
              "54429   2.688255  13.258142  23.745136  10.767670  2.350792  2.961521   \n",
              "54430   3.256510  12.861075  23.856852  10.914764  2.086752  2.266074   \n",
              "54431   4.435878  14.950837  26.662605   9.684784  1.651920  1.833484   \n",
              "\n",
              "             VOC      precip  \n",
              "0      81.232269   13.017584  \n",
              "1      70.904221   13.017584  \n",
              "2      52.742138   13.018102  \n",
              "3      40.593750   13.020221  \n",
              "4      35.813900   13.020977  \n",
              "...          ...         ...  \n",
              "54427  39.106194  103.146843  \n",
              "54428  39.306797  103.146843  \n",
              "54429  54.044193  103.146843  \n",
              "54430  70.132225  103.146843  \n",
              "54431  95.520294  103.146843  \n",
              "\n",
              "[54432 rows x 50 columns]"
            ]
          },
          "execution_count": 30,
          "metadata": {},
          "output_type": "execute_result"
        }
      ],
      "source": [
        "drop_ids = []\n",
        "# identify sensors with < 20 days of data\n",
        "for i in range(len(ids)):\n",
        "    tmp = ts_nomissing[ts_nomissing.DeviceId == ids[i]]        \n",
        "    if np.sum(~np.isnan(tmp['CalibratedNO2'])) < (len(tmp)*.75):\n",
        "        drop_ids.append(ids[i])\n",
        "\n",
        "\n",
        "print(len(tmp)*(.75))\n",
        "print(len(drop_ids))\n",
        "\n",
        "for i in range(len(drop_ids)):\n",
        "    ts_nomissing = ts_nomissing[ts_nomissing.DeviceId != drop_ids[i]].reset_index(drop=True)\n",
        "\n",
        "ts_nomissing"
      ]
    },
    {
      "cell_type": "code",
      "execution_count": null,
      "metadata": {
        "jupyter": {
          "outputs_hidden": false,
          "source_hidden": false
        },
        "nteract": {
          "transient": {
            "deleting": false
          }
        }
      },
      "outputs": [],
      "source": [
        "ts_nomissing.to_csv('../dataAnalysis/cleaned_and_dropped_wint.csv')"
      ]
    },
    {
      "cell_type": "markdown",
      "metadata": {
        "nteract": {
          "transient": {
            "deleting": false
          }
        }
      },
      "source": [
        "# "
      ]
    },
    {
      "cell_type": "markdown",
      "metadata": {
        "nteract": {
          "transient": {
            "deleting": false
          }
        }
      },
      "source": [
        "# Now append cmaq to eclipse data\n",
        "\n",
        "Find corresponding indices that match eclipse lon/lat to cmaq lon/lat; pull data from cmaq; add these as columns in eclipse data"
      ]
    },
    {
      "cell_type": "code",
      "execution_count": 15,
      "metadata": {
        "jupyter": {
          "outputs_hidden": false,
          "source_hidden": false
        },
        "nteract": {
          "transient": {
            "deleting": false
          }
        }
      },
      "outputs": [],
      "source": [
        "def find_index(stn_lon, stn_lat, wrf_lon, wrf_lat):\n",
        "# stn -- list (points)\n",
        "# wrf -- list (grid)\n",
        "  xx=[];yy=[]\n",
        "  for i in range(len(stn_lat)):\n",
        "    abslat = np.abs(wrf_lat-stn_lat[i])\n",
        "    abslon= np.abs(wrf_lon-stn_lon[i])\n",
        "    c = np.maximum(abslon,abslat)\n",
        "    latlon_idx = np.argmin(c)\n",
        "    x, y = np.where(c == np.min(c))\n",
        "    #add indices of nearest wrf point station\n",
        "    xx.append(x);yy.append(y)\n",
        "  #return indices list\n",
        "  return xx, yy\n",
        "\n",
        "from netCDF4 import Dataset\n",
        "\n",
        "# Append CMAQ data\n",
        "d = '../netcdf/'\n",
        "lat,lon = np.array(Dataset(d+'/latlon_ChicagoLADCO_d03.nc')['lat']),np.array(Dataset(d+'/latlon_ChicagoLADCO_d03.nc')['lon'])\n",
        "\n",
        "ds = Dataset('/mnt/batch/tasks/shared/LS_root/mounts/clusters/cmaq/code/Users/t-stacym/netcdf/all_crop_wint.nc')\n",
        "\n",
        "#var_list = ['BENZENE','CO','FORM','NO', 'NO2', 'NOX', 'O3', 'PBLH',\n",
        "# 'PM25_CA', 'PM25_CL', 'PM25_EC', 'PM25_HP', 'PM25_K', 'PM25_MG', 'PM25_NA', 'PM25_NH4', 'PM25_NO3', \n",
        "# 'PM25_OC', 'PM25_OM', 'PM25_SO4', 'PM25_SOIL', 'PM25_TOT',\n",
        "# 'RH', 'SFC_TMP','SO2', 'U10', 'V10', 'VOC', 'precip']\n",
        "\n",
        "# variables to add to dataframe\n",
        "var_list = ['CO','FORM','NO', 'NO2', 'NOX', 'O3', 'PBLH',\n",
        " 'PM25_EC', 'PM25_HP',  'PM25_NO3', 'PM25_OC', 'PM25_SOIL', 'PM25_TOT',\n",
        " 'RH', 'SFC_TMP','SO2', 'U10', 'V10', 'VOC', 'precip']\n",
        "\n",
        "\n",
        "ids = ts_nomissing.DeviceId.unique()\n",
        "\n",
        "# find corresponding index in cmaq data for each station\n",
        "x, y =[],[]\n",
        "for i in ids:\n",
        "  tmp = ts_nomissing[ts_nomissing.DeviceId == i].reset_index(drop=True)\n",
        "  x.append(tmp['Longitude'][0])\n",
        "  y.append(tmp.Latitude[0])\n",
        "\n",
        "\n",
        "xx, yy = find_index(x,y,lon,lat) # get index of ID in cmaq file\n",
        "txx,tyy = [],[]\n",
        "#print(xx)"
      ]
    },
    {
      "cell_type": "code",
      "execution_count": 19,
      "metadata": {
        "jupyter": {
          "outputs_hidden": false,
          "source_hidden": false
        },
        "nteract": {
          "transient": {
            "deleting": false
          }
        }
      },
      "outputs": [
        {
          "name": "stdout",
          "output_type": "stream",
          "text": [
            "Done with var CO\n",
            "Done with var FORM\n",
            "Done with var NO\n",
            "Done with var NO2\n",
            "Done with var NOX\n",
            "Done with var O3\n",
            "Done with var PBLH\n",
            "Done with var PM25_EC\n",
            "Done with var PM25_HP\n",
            "Done with var PM25_NO3\n",
            "Done with var PM25_OC\n",
            "Done with var PM25_SOIL\n",
            "Done with var PM25_TOT\n",
            "Done with var RH\n",
            "Done with var SFC_TMP\n",
            "Done with var SO2\n",
            "Done with var U10\n",
            "Done with var V10\n",
            "Done with var VOC\n",
            "Done with var precip\n"
          ]
        }
      ],
      "source": [
        "# get cmaq data to given index locations\n",
        "\n",
        "# for each var\n",
        "for var in var_list:\n",
        "  cmaq = []\n",
        "  # for each ID from eclipse\n",
        "  for i in range(len(ids)):\n",
        "    ind = xx[i][0],yy[i][0]\n",
        "    # for each dat\n",
        "    for d in range(28): # change this if doing august or february\n",
        "      # for all hours\n",
        "      for h in range(24):\n",
        "        cmaq.append(ds[var][d*24+h][0][ind])\n",
        "          if var == var_list[0]:\n",
        "            txx.append(ind)\n",
        "  ts_nomissing[var] = cmaq\n",
        "  print('Done with var %s'%(var))\n",
        "\n"
      ]
    },
    {
      "cell_type": "code",
      "execution_count": 20,
      "metadata": {
        "jupyter": {
          "outputs_hidden": false,
          "source_hidden": false
        },
        "nteract": {
          "transient": {
            "deleting": false
          }
        }
      },
      "outputs": [
        {
          "name": "stdout",
          "output_type": "stream",
          "text": [
            "[[59.404232]\n",
            " [59.096165]\n",
            " [59.268177]\n",
            " [59.940365]\n",
            " [61.810226]\n",
            " [64.50386 ]\n",
            " [67.14056 ]\n",
            " [69.7813  ]\n",
            " [73.13299 ]\n",
            " [76.5077  ]\n",
            " [78.53136 ]\n",
            " [78.66185 ]\n",
            " [77.85525 ]\n",
            " [77.16622 ]\n",
            " [76.634575]\n",
            " [76.20534 ]\n",
            " [76.7999  ]\n",
            " [79.3293  ]\n",
            " [84.17417 ]\n",
            " [88.68583 ]\n",
            " [90.23093 ]\n",
            " [89.72246 ]\n",
            " [88.639435]\n",
            " [87.891975]]\n",
            "[100.44652, 100.44652, 100.44652, 100.44652, 100.44652, 100.44652, 100.44652, 100.44652, 100.44652, 100.44652, 100.44652, 100.44652, 100.44652, 100.44652, 100.44652, 100.44652, 100.44652, 100.44652, 100.44652, 100.44652, 100.44652, 100.44652, 100.44652, 100.44652]\n"
          ]
        }
      ],
      "source": [
        "#reindexing arrays, keep it from look weird\n",
        "f = ds[var][d*24:d*24+24].reshape(288,315,24,1)[ind]\n",
        "f2 = [ds[var][d*24+h][0][ind] for h in range(24)]"
      ]
    },
    {
      "cell_type": "code",
      "execution_count": 27,
      "metadata": {
        "jupyter": {
          "outputs_hidden": false,
          "source_hidden": false
        },
        "nteract": {
          "transient": {
            "deleting": false
          }
        }
      },
      "outputs": [
        {
          "data": {
            "text/plain": [
              "2022-02-01 00:00:00    41.692519\n",
              "2022-02-01 01:00:00    41.692519\n",
              "2022-02-01 02:00:00    41.692519\n",
              "2022-02-01 03:00:00    41.692519\n",
              "2022-02-01 04:00:00    41.692519\n",
              "                         ...    \n",
              "2022-02-28 19:00:00    41.852400\n",
              "2022-02-28 20:00:00    41.852400\n",
              "2022-02-28 21:00:00    41.852400\n",
              "2022-02-28 22:00:00    41.852400\n",
              "2022-02-28 23:00:00    41.852400\n",
              "Name: Latitude, Length: 66528, dtype: float64"
            ]
          },
          "execution_count": 27,
          "metadata": {},
          "output_type": "execute_result"
        }
      ],
      "source": [
        "#what does this look like in the end\n",
        "ts_nomissing.Latitude"
      ]
    },
    {
      "cell_type": "code",
      "execution_count": 28,
      "metadata": {
        "jupyter": {
          "outputs_hidden": false,
          "source_hidden": false
        },
        "nteract": {
          "transient": {
            "deleting": false
          }
        }
      },
      "outputs": [],
      "source": [
        "#ts_nomissing['xx'] = txx\n",
        "# put out the file so that we can tmp use it\n",
        "ts_nomissing.to_csv('cleaned_data_wint.csv')"
      ]
    },
    {
      "cell_type": "markdown",
      "metadata": {},
      "source": [
        "# Now check nearby sensors to identify anticorrelated sensors"
      ]
    },
    {
      "cell_type": "code",
      "execution_count": null,
      "metadata": {},
      "outputs": [],
      "source": [
        "df = pd.read_csv('../cleaned_data_wint.csv',index_col = 0)\n",
        "df['DeviceId'] = df['MSRDeviceNbr']\n",
        "df2 = df.groupby('DeviceId').mean().reset_index()\n",
        "\n",
        "ids = df.DeviceId.unique()\n",
        "\n",
        "lo,la = [],[]\n",
        "\n",
        "for id in ids:\n",
        "    lo.append(df[df.DeviceId == id].Longitude.unique()[0])\n",
        "    la.append(df[df.DeviceId == id].Latitude.unique()[0])\n",
        "\n",
        "\n",
        "geometry = [Point(lo[i],la[i]) for i in range(len(lo))]\n",
        "\n",
        "id = [ids[i] for i in range(len(ids))]\n",
        "f = pd.DataFrame([id,lo,la]).T\n",
        "f.columns = ['ids','lon','lat']\n",
        "\n",
        "eclipse = gpd.GeoDataFrame(f,geometry = geometry,crs ={'init': 'epsg:4326'})\n",
        "eclipse = eclipse.to_crs(\"EPSG:3857\")\n",
        "\n",
        "match = []\n",
        "match_long = []\n",
        "for i in range(len(ids)):\n",
        "    match = []\n",
        "    for j in range(len(eclipse)):\n",
        "        point_1 = eclipse.geometry[i]\n",
        "        point_2 = eclipse.geometry[j]\n",
        "        d = point_1.distance(point_2)\n",
        "        if (d < 5000) & (d != 0):\n",
        "            match.append(int(eclipse.ids[j]))\n",
        "            #print(match)\n",
        "    match_long.append(match)\n",
        "\n",
        "f = pd.DataFrame(match_long)\n",
        "f['id'] = id\n",
        "f.to_csv('nearest_station_names.csv')"
      ]
    },
    {
      "cell_type": "code",
      "execution_count": null,
      "metadata": {},
      "outputs": [],
      "source": [
        "data = pd.read_csv('../cleaned_data_wint.csv')\n",
        "ids = data.DeviceId.unique()\n",
        "loc = []\n",
        "\n",
        "for id in ids:\n",
        "    loc.append([data[data.DeviceId == id].Longitude.unique()[0],data[data.DeviceId == id].Latitude.unique()[0]])\n",
        "\n",
        "import warnings \n",
        "warnings.filterwarnings('ignore')\n",
        "\n",
        "df['dt'] = pd.to_datetime(df['Unnamed: 0'])\n",
        "\n",
        "times = df.dt.unique()\n",
        "times = pd.date_range(times[0],times[-1])\n",
        "df['day_dt'] = [df['Unnamed: 0'][i][0:10] for i in range(len(df))]\n",
        "df['day_dt'] = pd.to_datetime(df['day_dt'])\n",
        "\n",
        "rs = []\n",
        "for id in ids:\n",
        "    tmp = df[df.DeviceId == id].reset_index()\n",
        "    closest = np.array(f[f.id == id])[0]\n",
        "    n = (np.sum(~np.isnan(closest))) # number of close sensors\n",
        "    r = []\n",
        "    if n > 1:\n",
        "        for j in range(n-1):\n",
        "            ri = []\n",
        "            tmp_closest = df[df.DeviceId == closest[j]].reset_index()\n",
        "            for i in range(len(times)):\n",
        "                t = np.array(tmp[tmp.day_dt == times[i]]['CalibratedNO2'])\n",
        "                t2 = np.array(tmp_closest[tmp_closest.day_dt == times[i]]['CalibratedNO2'])\n",
        "                if (len(t2) > 0) & (len(t) > 0):\n",
        "                    m1= np.array([~np.isnan(t),~np.isnan(t2)])\n",
        "                    m1 = m1.all(0)\n",
        "                    #print(m1)\n",
        "                    t,t2 = t[m1],t2[m1]\n",
        "                    ri.append(np.corrcoef(t,t2)[0][1])\n",
        "            r.append(ri)    \n",
        "        #print(np.array(r).shape)\n",
        "        #print(r)\n",
        "        rs.append(list(np.nanmean(np.array(r),axis=0)))\n",
        "    else:\n",
        "        rs.append([np.nan]*len(times))\n",
        "\n",
        "pd.DataFrame(rs)"
      ]
    },
    {
      "cell_type": "code",
      "execution_count": null,
      "metadata": {},
      "outputs": [],
      "source": [
        "check = pd.DataFrame(\n",
        "    [ids,\n",
        "    list(pd.DataFrame(rs).T.mean()),\n",
        "    list(pd.DataFrame(rs).T.min()),\n",
        "    list(pd.DataFrame(rs).T.max())]\n",
        "    ).T\n",
        "\n",
        "check"
      ]
    },
    {
      "cell_type": "code",
      "execution_count": null,
      "metadata": {},
      "outputs": [],
      "source": [
        "rs = pd.DataFrame(rs)\n",
        "rs['Correlated Days'] = np.array(rs > 0).sum(axis=1)-1\n",
        "a = np.sort(rs[rs['Correlated Days'] < 31*0.75].id)\n",
        "a\n",
        "b = np.array([2118, 2080, 2134, 2060, 2082, 2062, 2079, 2048, 2172, 2182, 2179, 2191, 2162]) # form hourly concentraitons per month\n",
        "np.sort(b)\n",
        "\n",
        "s = list(a)+list(b)\n",
        "s = pd.DataFrame([s,s]).T[0].unique()\n",
        "print(len(s))\n",
        "print(s)"
      ]
    },
    {
      "cell_type": "code",
      "execution_count": null,
      "metadata": {},
      "outputs": [],
      "source": [
        "locs = pd.DataFrame(loc)\n",
        "locs['id'] = ids\n",
        "\n",
        "\n",
        "fig,ax = plt.subplots(figsize=(9,12))\n",
        "ax.scatter(locs[0],locs[1])\n",
        "\n",
        "for i in range(len(s)):\n",
        "    tmp = locs[locs.id == s[i]]\n",
        "    ax.scatter(tmp[0],tmp[1])\n",
        "\n",
        "plt.show()"
      ]
    },
    {
      "cell_type": "code",
      "execution_count": null,
      "metadata": {},
      "outputs": [],
      "source": [
        "# drop sensors bad\n",
        "for i in range(len(s)):\n",
        "    indexNames = data[data['DeviceId'] == s[i]].index\n",
        "    data.drop(indexNames , inplace=True)\n",
        "\n",
        "data.reset_index(drop=True)\n",
        "data.to_csv('data_cleaned_and_dropped_wint.csv')"
      ]
    },
    {
      "cell_type": "code",
      "execution_count": null,
      "metadata": {},
      "outputs": [],
      "source": [
        "fin = pd.read_csv('data_cleaned_and_dropped.csv',index_col = 0)\n",
        "fin = fin.groupby(['Latitude','Longitude']).mean().reset_index()\n",
        "chi_rect_shp = gpd.read_filegrid = gpd.read_file('../shapefiles/rectangle_chicago_1km_grid.shp')\n",
        "chi_shp = gpd.read_file('../shapefiles/geo_export_77af1a6a-f8ec-47f4-977c-40956cd94f97.shp')\n",
        "\n",
        "# for plotting\n",
        "streets = gpd.read_file('../shapefiles/geo_export_d268c11a-e3fe-42de-a88f-ad64688102f5.shp')\n",
        "class1 = streets[streets['class'] == '1'].reset_index(drop=True)\n",
        "\n",
        "chi_shp = chi_shp.to_crs(\"EPSG:4326\")\n",
        "outer = gpd.GeoDataFrame({'index':[1],'geometry':chi_rect_shp.unary_union},crs='EPSG:4326')\n",
        "outer_chi = gpd.GeoDataFrame({'index':[1],'geometry':chi_shp.unary_union[0]},crs='EPSG:4326')\n",
        "\n",
        "class1 = class1.to_crs(chi_shp.crs)\n"
      ]
    },
    {
      "cell_type": "code",
      "execution_count": null,
      "metadata": {},
      "outputs": [],
      "source": [
        "# make figure 1\n",
        "\n",
        "import matplotlib.pyplot as plt\n",
        "\n",
        "fig,ax = plt.subplots(figsize = (10,10))\n",
        "\n",
        "outer.plot(facecolor='None',edgecolor='k',alpha=0.5,ax=ax,linewidth=1)\n",
        "outer_chi.plot(facecolor='None',edgecolor='k',alpha=0.5,ax=ax,linewidth=1)\n",
        "\n",
        "chi_shp.plot(facecolor='None',edgecolor='k',alpha=0.5,ax=ax,linewidth=0.5)\n",
        "class1.plot(edgecolor='midnightblue',alpha=0.5,ax=ax,linewidth=1.5)\n",
        "\n",
        "ctx.add_basemap(ax,crs=chi_shp.crs,source=ctx.providers.CartoDB.PositronNoLabels) #ctx.providers.Esri.NatGeoWorldMap)\n",
        "\n",
        "ax.scatter(df2.Longitude, df2.Latitude,color='slategray',alpha=0.7,s=15,label='Excluded Station',marker='^')\n",
        "ax.scatter(fin.Longitude, fin.Latitude,color='royalblue',s=20,label=r'NO$_2$ Sensor')\n",
        "\n",
        "\n",
        "# add label\n",
        "ax.text(0.10,0.96,s='(a)',transform=ax.transAxes,fontsize = 12,c='k',alpha=0.8)\n",
        "ax.text(0.22,0.87,s='(b)',transform=ax.transAxes,fontsize = 12,alpha=0.8)\n",
        "\n",
        "ax.text(0.14,0.795,s=\"O'Hare\\n   ✈\",transform=ax.transAxes,fontsize = 10,alpha=0.8)\n",
        "ax.text(0.4,0.45,s='Midway\\n   ✈',transform=ax.transAxes,fontsize = 10,alpha=0.8)\n",
        "ax.text(0.45,0.14,s='EPA ComED',transform=ax.transAxes,fontsize = 10,alpha=0.8)\n",
        "\n",
        "ax.text(0.74,0.35,s=\"I-90\",transform=ax.transAxes,fontsize = 9,alpha=0.8, style='italic')\n",
        "ax.text(0.53,0.6,s='I-290',transform=ax.transAxes,fontsize = 9,alpha=0.8, style='italic')\n",
        "ax.text(0.53,0.48,s='I-55',transform=ax.transAxes,fontsize = 9,alpha=0.8, style='italic')\n",
        "ax.text(0.45,0.75,s='I-94',transform=ax.transAxes,fontsize = 9,alpha=0.8, style='italic')\n",
        "ax.text(0.65,0.35,s='I-94',transform=ax.transAxes,fontsize = 9,alpha=0.8, style='italic')\n",
        "ax.text(0.58,0.2,s='I-57',transform=ax.transAxes,fontsize = 9,alpha=0.8, style='italic')\n",
        "ax.text(0.75,0.2,s='I-94',transform=ax.transAxes,fontsize = 9,alpha=0.8, style='italic')\n",
        "ax.text(0.72,0.58,s='LSD',transform=ax.transAxes,fontsize = 9,alpha=0.8, style='italic')\n",
        "\n",
        "ax.text(0.8,0.7,s='  Lake\\nMichigan',transform=ax.transAxes,fontsize = 12,alpha=0.5, style='italic')\n",
        "\n",
        "\n",
        "plt.legend()\n",
        "\n",
        "plt.show()"
      ]
    },
    {
      "cell_type": "code",
      "execution_count": 166,
      "metadata": {
        "jupyter": {
          "outputs_hidden": false,
          "source_hidden": false
        },
        "nteract": {
          "transient": {
            "deleting": false
          }
        }
      },
      "outputs": [
        {
          "data": {
            "text/html": [
              "<div>\n",
              "<style scoped>\n",
              "    .dataframe tbody tr th:only-of-type {\n",
              "        vertical-align: middle;\n",
              "    }\n",
              "\n",
              "    .dataframe tbody tr th {\n",
              "        vertical-align: top;\n",
              "    }\n",
              "\n",
              "    .dataframe thead th {\n",
              "        text-align: right;\n",
              "    }\n",
              "</style>\n",
              "<table border=\"1\" class=\"dataframe\">\n",
              "  <thead>\n",
              "    <tr style=\"text-align: right;\">\n",
              "      <th></th>\n",
              "      <th>DeviceId</th>\n",
              "      <th>Unnamed: 0.1</th>\n",
              "      <th>Latitude</th>\n",
              "      <th>Longitude</th>\n",
              "      <th>CO</th>\n",
              "      <th>SO2</th>\n",
              "      <th>NO2</th>\n",
              "      <th>O3</th>\n",
              "      <th>TempC</th>\n",
              "      <th>Humidity</th>\n",
              "      <th>...</th>\n",
              "      <th>PM25_OC</th>\n",
              "      <th>PM25_SOIL</th>\n",
              "      <th>PM25_TOT</th>\n",
              "      <th>RH</th>\n",
              "      <th>SFC_TMP</th>\n",
              "      <th>U10</th>\n",
              "      <th>V10</th>\n",
              "      <th>VOC</th>\n",
              "      <th>precip</th>\n",
              "      <th>xx</th>\n",
              "    </tr>\n",
              "  </thead>\n",
              "  <tbody>\n",
              "    <tr>\n",
              "      <th>2021-08-01 00:00:00</th>\n",
              "      <td>2096</td>\n",
              "      <td>451566.5</td>\n",
              "      <td>41.7136</td>\n",
              "      <td>-87.5602</td>\n",
              "      <td>223.072906</td>\n",
              "      <td>0.598424</td>\n",
              "      <td>7.072208</td>\n",
              "      <td>69.273613</td>\n",
              "      <td>26.704801</td>\n",
              "      <td>49.475733</td>\n",
              "      <td>...</td>\n",
              "      <td>4.255794</td>\n",
              "      <td>2.850836</td>\n",
              "      <td>14.695996</td>\n",
              "      <td>40.932316</td>\n",
              "      <td>26.526184</td>\n",
              "      <td>-2.705408</td>\n",
              "      <td>-0.099267</td>\n",
              "      <td>45.112770</td>\n",
              "      <td>0.070998</td>\n",
              "      <td>(106, 148)</td>\n",
              "    </tr>\n",
              "    <tr>\n",
              "      <th>2021-08-01 01:00:00</th>\n",
              "      <td>2096</td>\n",
              "      <td>451554.5</td>\n",
              "      <td>41.7136</td>\n",
              "      <td>-87.5602</td>\n",
              "      <td>249.280609</td>\n",
              "      <td>1.770328</td>\n",
              "      <td>15.038789</td>\n",
              "      <td>55.888779</td>\n",
              "      <td>25.407931</td>\n",
              "      <td>54.117076</td>\n",
              "      <td>...</td>\n",
              "      <td>4.377907</td>\n",
              "      <td>4.122512</td>\n",
              "      <td>18.598806</td>\n",
              "      <td>44.280441</td>\n",
              "      <td>25.108826</td>\n",
              "      <td>-1.739362</td>\n",
              "      <td>0.138814</td>\n",
              "      <td>64.181183</td>\n",
              "      <td>0.070998</td>\n",
              "      <td>(106, 148)</td>\n",
              "    </tr>\n",
              "    <tr>\n",
              "      <th>2021-08-01 02:00:00</th>\n",
              "      <td>2096</td>\n",
              "      <td>451543.0</td>\n",
              "      <td>41.7136</td>\n",
              "      <td>-87.5602</td>\n",
              "      <td>264.847870</td>\n",
              "      <td>3.923457</td>\n",
              "      <td>20.209375</td>\n",
              "      <td>34.969601</td>\n",
              "      <td>24.262903</td>\n",
              "      <td>58.412170</td>\n",
              "      <td>...</td>\n",
              "      <td>3.386872</td>\n",
              "      <td>5.435637</td>\n",
              "      <td>20.073183</td>\n",
              "      <td>47.657852</td>\n",
              "      <td>23.516479</td>\n",
              "      <td>-0.961102</td>\n",
              "      <td>1.435569</td>\n",
              "      <td>79.380402</td>\n",
              "      <td>0.070998</td>\n",
              "      <td>(106, 148)</td>\n",
              "    </tr>\n",
              "    <tr>\n",
              "      <th>2021-08-01 03:00:00</th>\n",
              "      <td>2096</td>\n",
              "      <td>451531.5</td>\n",
              "      <td>41.7136</td>\n",
              "      <td>-87.5602</td>\n",
              "      <td>197.811447</td>\n",
              "      <td>0.715859</td>\n",
              "      <td>13.738832</td>\n",
              "      <td>27.680510</td>\n",
              "      <td>23.346691</td>\n",
              "      <td>62.313334</td>\n",
              "      <td>...</td>\n",
              "      <td>1.727185</td>\n",
              "      <td>4.240244</td>\n",
              "      <td>14.624983</td>\n",
              "      <td>59.108917</td>\n",
              "      <td>22.568420</td>\n",
              "      <td>1.822631</td>\n",
              "      <td>1.104520</td>\n",
              "      <td>64.052742</td>\n",
              "      <td>0.070998</td>\n",
              "      <td>(106, 148)</td>\n",
              "    </tr>\n",
              "    <tr>\n",
              "      <th>2021-08-01 04:00:00</th>\n",
              "      <td>2096</td>\n",
              "      <td>451519.5</td>\n",
              "      <td>41.7136</td>\n",
              "      <td>-87.5602</td>\n",
              "      <td>167.599396</td>\n",
              "      <td>0.568978</td>\n",
              "      <td>10.944631</td>\n",
              "      <td>27.643175</td>\n",
              "      <td>22.998441</td>\n",
              "      <td>65.065257</td>\n",
              "      <td>...</td>\n",
              "      <td>1.522062</td>\n",
              "      <td>3.927935</td>\n",
              "      <td>11.371109</td>\n",
              "      <td>65.886513</td>\n",
              "      <td>21.867828</td>\n",
              "      <td>1.990919</td>\n",
              "      <td>1.212685</td>\n",
              "      <td>51.081818</td>\n",
              "      <td>0.070998</td>\n",
              "      <td>(106, 148)</td>\n",
              "    </tr>\n",
              "    <tr>\n",
              "      <th>...</th>\n",
              "      <td>...</td>\n",
              "      <td>...</td>\n",
              "      <td>...</td>\n",
              "      <td>...</td>\n",
              "      <td>...</td>\n",
              "      <td>...</td>\n",
              "      <td>...</td>\n",
              "      <td>...</td>\n",
              "      <td>...</td>\n",
              "      <td>...</td>\n",
              "      <td>...</td>\n",
              "      <td>...</td>\n",
              "      <td>...</td>\n",
              "      <td>...</td>\n",
              "      <td>...</td>\n",
              "      <td>...</td>\n",
              "      <td>...</td>\n",
              "      <td>...</td>\n",
              "      <td>...</td>\n",
              "      <td>...</td>\n",
              "      <td>...</td>\n",
              "    </tr>\n",
              "    <tr>\n",
              "      <th>2021-08-31 19:00:00</th>\n",
              "      <td>2162</td>\n",
              "      <td>NaN</td>\n",
              "      <td>41.8454</td>\n",
              "      <td>-87.6854</td>\n",
              "      <td>148.654388</td>\n",
              "      <td>0.968956</td>\n",
              "      <td>3.183031</td>\n",
              "      <td>47.529999</td>\n",
              "      <td>NaN</td>\n",
              "      <td>NaN</td>\n",
              "      <td>...</td>\n",
              "      <td>1.105391</td>\n",
              "      <td>0.654756</td>\n",
              "      <td>5.329491</td>\n",
              "      <td>48.975044</td>\n",
              "      <td>26.728271</td>\n",
              "      <td>-3.747720</td>\n",
              "      <td>-1.621235</td>\n",
              "      <td>18.894489</td>\n",
              "      <td>89.446609</td>\n",
              "      <td>(116, 140)</td>\n",
              "    </tr>\n",
              "    <tr>\n",
              "      <th>2021-08-31 20:00:00</th>\n",
              "      <td>2162</td>\n",
              "      <td>NaN</td>\n",
              "      <td>41.8454</td>\n",
              "      <td>-87.6854</td>\n",
              "      <td>152.744156</td>\n",
              "      <td>0.380541</td>\n",
              "      <td>3.196157</td>\n",
              "      <td>42.690430</td>\n",
              "      <td>NaN</td>\n",
              "      <td>NaN</td>\n",
              "      <td>...</td>\n",
              "      <td>0.914257</td>\n",
              "      <td>0.640529</td>\n",
              "      <td>3.972908</td>\n",
              "      <td>47.038013</td>\n",
              "      <td>26.793213</td>\n",
              "      <td>-3.807886</td>\n",
              "      <td>-1.849999</td>\n",
              "      <td>19.979692</td>\n",
              "      <td>89.446609</td>\n",
              "      <td>(116, 140)</td>\n",
              "    </tr>\n",
              "    <tr>\n",
              "      <th>2021-08-31 21:00:00</th>\n",
              "      <td>2162</td>\n",
              "      <td>NaN</td>\n",
              "      <td>41.8454</td>\n",
              "      <td>-87.6854</td>\n",
              "      <td>159.451935</td>\n",
              "      <td>0.268171</td>\n",
              "      <td>3.513601</td>\n",
              "      <td>40.298920</td>\n",
              "      <td>NaN</td>\n",
              "      <td>NaN</td>\n",
              "      <td>...</td>\n",
              "      <td>0.791802</td>\n",
              "      <td>0.667005</td>\n",
              "      <td>3.482544</td>\n",
              "      <td>47.418720</td>\n",
              "      <td>26.687378</td>\n",
              "      <td>-3.795038</td>\n",
              "      <td>-2.354437</td>\n",
              "      <td>21.347155</td>\n",
              "      <td>89.446609</td>\n",
              "      <td>(116, 140)</td>\n",
              "    </tr>\n",
              "    <tr>\n",
              "      <th>2021-08-31 22:00:00</th>\n",
              "      <td>2162</td>\n",
              "      <td>812023.0</td>\n",
              "      <td>41.8454</td>\n",
              "      <td>-87.6854</td>\n",
              "      <td>159.451935</td>\n",
              "      <td>0.268171</td>\n",
              "      <td>3.513601</td>\n",
              "      <td>40.298920</td>\n",
              "      <td>28.807005</td>\n",
              "      <td>45.623224</td>\n",
              "      <td>...</td>\n",
              "      <td>0.791802</td>\n",
              "      <td>0.667005</td>\n",
              "      <td>3.482544</td>\n",
              "      <td>47.418720</td>\n",
              "      <td>26.687378</td>\n",
              "      <td>-3.795038</td>\n",
              "      <td>-2.354437</td>\n",
              "      <td>21.347155</td>\n",
              "      <td>89.446609</td>\n",
              "      <td>(116, 140)</td>\n",
              "    </tr>\n",
              "    <tr>\n",
              "      <th>2021-08-31 23:00:00</th>\n",
              "      <td>2162</td>\n",
              "      <td>812011.5</td>\n",
              "      <td>41.8454</td>\n",
              "      <td>-87.6854</td>\n",
              "      <td>159.451935</td>\n",
              "      <td>0.268171</td>\n",
              "      <td>3.513601</td>\n",
              "      <td>40.298920</td>\n",
              "      <td>26.696122</td>\n",
              "      <td>51.102702</td>\n",
              "      <td>...</td>\n",
              "      <td>0.791802</td>\n",
              "      <td>0.667005</td>\n",
              "      <td>3.482544</td>\n",
              "      <td>47.418720</td>\n",
              "      <td>26.687378</td>\n",
              "      <td>-3.795038</td>\n",
              "      <td>-2.354437</td>\n",
              "      <td>21.347155</td>\n",
              "      <td>89.446609</td>\n",
              "      <td>(116, 140)</td>\n",
              "    </tr>\n",
              "  </tbody>\n",
              "</table>\n",
              "<p>75144 rows × 51 columns</p>\n",
              "</div>"
            ],
            "text/plain": [
              "                     DeviceId  Unnamed: 0.1  Latitude  Longitude          CO  \\\n",
              "2021-08-01 00:00:00      2096      451566.5   41.7136   -87.5602  223.072906   \n",
              "2021-08-01 01:00:00      2096      451554.5   41.7136   -87.5602  249.280609   \n",
              "2021-08-01 02:00:00      2096      451543.0   41.7136   -87.5602  264.847870   \n",
              "2021-08-01 03:00:00      2096      451531.5   41.7136   -87.5602  197.811447   \n",
              "2021-08-01 04:00:00      2096      451519.5   41.7136   -87.5602  167.599396   \n",
              "...                       ...           ...       ...        ...         ...   \n",
              "2021-08-31 19:00:00      2162           NaN   41.8454   -87.6854  148.654388   \n",
              "2021-08-31 20:00:00      2162           NaN   41.8454   -87.6854  152.744156   \n",
              "2021-08-31 21:00:00      2162           NaN   41.8454   -87.6854  159.451935   \n",
              "2021-08-31 22:00:00      2162      812023.0   41.8454   -87.6854  159.451935   \n",
              "2021-08-31 23:00:00      2162      812011.5   41.8454   -87.6854  159.451935   \n",
              "\n",
              "                          SO2        NO2         O3      TempC   Humidity  \\\n",
              "2021-08-01 00:00:00  0.598424   7.072208  69.273613  26.704801  49.475733   \n",
              "2021-08-01 01:00:00  1.770328  15.038789  55.888779  25.407931  54.117076   \n",
              "2021-08-01 02:00:00  3.923457  20.209375  34.969601  24.262903  58.412170   \n",
              "2021-08-01 03:00:00  0.715859  13.738832  27.680510  23.346691  62.313334   \n",
              "2021-08-01 04:00:00  0.568978  10.944631  27.643175  22.998441  65.065257   \n",
              "...                       ...        ...        ...        ...        ...   \n",
              "2021-08-31 19:00:00  0.968956   3.183031  47.529999        NaN        NaN   \n",
              "2021-08-31 20:00:00  0.380541   3.196157  42.690430        NaN        NaN   \n",
              "2021-08-31 21:00:00  0.268171   3.513601  40.298920        NaN        NaN   \n",
              "2021-08-31 22:00:00  0.268171   3.513601  40.298920  28.807005  45.623224   \n",
              "2021-08-31 23:00:00  0.268171   3.513601  40.298920  26.696122  51.102702   \n",
              "\n",
              "                     ...   PM25_OC  PM25_SOIL   PM25_TOT         RH  \\\n",
              "2021-08-01 00:00:00  ...  4.255794   2.850836  14.695996  40.932316   \n",
              "2021-08-01 01:00:00  ...  4.377907   4.122512  18.598806  44.280441   \n",
              "2021-08-01 02:00:00  ...  3.386872   5.435637  20.073183  47.657852   \n",
              "2021-08-01 03:00:00  ...  1.727185   4.240244  14.624983  59.108917   \n",
              "2021-08-01 04:00:00  ...  1.522062   3.927935  11.371109  65.886513   \n",
              "...                  ...       ...        ...        ...        ...   \n",
              "2021-08-31 19:00:00  ...  1.105391   0.654756   5.329491  48.975044   \n",
              "2021-08-31 20:00:00  ...  0.914257   0.640529   3.972908  47.038013   \n",
              "2021-08-31 21:00:00  ...  0.791802   0.667005   3.482544  47.418720   \n",
              "2021-08-31 22:00:00  ...  0.791802   0.667005   3.482544  47.418720   \n",
              "2021-08-31 23:00:00  ...  0.791802   0.667005   3.482544  47.418720   \n",
              "\n",
              "                       SFC_TMP       U10       V10        VOC     precip  \\\n",
              "2021-08-01 00:00:00  26.526184 -2.705408 -0.099267  45.112770   0.070998   \n",
              "2021-08-01 01:00:00  25.108826 -1.739362  0.138814  64.181183   0.070998   \n",
              "2021-08-01 02:00:00  23.516479 -0.961102  1.435569  79.380402   0.070998   \n",
              "2021-08-01 03:00:00  22.568420  1.822631  1.104520  64.052742   0.070998   \n",
              "2021-08-01 04:00:00  21.867828  1.990919  1.212685  51.081818   0.070998   \n",
              "...                        ...       ...       ...        ...        ...   \n",
              "2021-08-31 19:00:00  26.728271 -3.747720 -1.621235  18.894489  89.446609   \n",
              "2021-08-31 20:00:00  26.793213 -3.807886 -1.849999  19.979692  89.446609   \n",
              "2021-08-31 21:00:00  26.687378 -3.795038 -2.354437  21.347155  89.446609   \n",
              "2021-08-31 22:00:00  26.687378 -3.795038 -2.354437  21.347155  89.446609   \n",
              "2021-08-31 23:00:00  26.687378 -3.795038 -2.354437  21.347155  89.446609   \n",
              "\n",
              "                             xx  \n",
              "2021-08-01 00:00:00  (106, 148)  \n",
              "2021-08-01 01:00:00  (106, 148)  \n",
              "2021-08-01 02:00:00  (106, 148)  \n",
              "2021-08-01 03:00:00  (106, 148)  \n",
              "2021-08-01 04:00:00  (106, 148)  \n",
              "...                         ...  \n",
              "2021-08-31 19:00:00  (116, 140)  \n",
              "2021-08-31 20:00:00  (116, 140)  \n",
              "2021-08-31 21:00:00  (116, 140)  \n",
              "2021-08-31 22:00:00  (116, 140)  \n",
              "2021-08-31 23:00:00  (116, 140)  \n",
              "\n",
              "[75144 rows x 51 columns]"
            ]
          },
          "execution_count": 166,
          "metadata": {},
          "output_type": "execute_result"
        }
      ],
      "source": [
        "#ts_nomissing = ts_nomissing.reset_index(inplace=True)\n",
        "err = [2048,2172,2182,2179,2191,2964,2062,2082,2079,2176,2069,2080]\n",
        "#ts_nomissing.iloc(ts_nomissing.index([ts_nomissing['MSRDeviceNbr'] == err[0]]))['CalibratedNO2'] = np.nan\n",
        "ts_nomissing\n",
        "#ts_nomissing.index([ts_nomissing['MSRDeviceNbr'] == err[0]])"
      ]
    },
    {
      "cell_type": "code",
      "execution_count": 102,
      "metadata": {
        "jupyter": {
          "outputs_hidden": false,
          "source_hidden": false
        },
        "nteract": {
          "transient": {
            "deleting": false
          }
        }
      },
      "outputs": [
        {
          "ename": "SyntaxError",
          "evalue": "cannot assign to function call (<ipython-input-102-015717c94922>, line 4)",
          "output_type": "error",
          "traceback": [
            "\u001b[0;36m  Input \u001b[0;32mIn [102]\u001b[0;36m\u001b[0m\n\u001b[0;31m    ts_nomissing.at([ts_nomissing['MSRDeviceNbr'] == e]['CalibratedNO2']) = np.nan\u001b[0m\n\u001b[0m    ^\u001b[0m\n\u001b[0;31mSyntaxError\u001b[0m\u001b[0;31m:\u001b[0m cannot assign to function call\n"
          ]
        }
      ],
      "source": [
        "# drop errenous sensors\n",
        "err = [2048,2172,2182,2179,2191,2964,2062,2082,2079,2176,2069,2080]\n",
        "for e in err:\n",
        "    ts_nomissing.at([ts_nomissing['MSRDeviceNbr'] == e]['CalibratedNO2']) = np.nan\n"
      ]
    },
    {
      "cell_type": "code",
      "execution_count": null,
      "metadata": {
        "jupyter": {
          "outputs_hidden": false,
          "source_hidden": false
        },
        "nteract": {
          "transient": {
            "deleting": false
          }
        }
      },
      "outputs": [],
      "source": [
        "ts_nomissing.to_csv('cleaned_data_wint.csv')"
      ]
    },
    {
      "cell_type": "code",
      "execution_count": null,
      "metadata": {
        "jupyter": {
          "outputs_hidden": false,
          "source_hidden": false
        },
        "nteract": {
          "transient": {
            "deleting": false
          }
        }
      },
      "outputs": [],
      "source": [
        "import geopandas as gpd\n",
        "from shapely.geometry import Point, shape, Polygon"
      ]
    },
    {
      "cell_type": "markdown",
      "metadata": {
        "nteract": {
          "transient": {
            "deleting": false
          }
        }
      },
      "source": [
        "# Plot the monthly averages"
      ]
    },
    {
      "cell_type": "code",
      "execution_count": null,
      "metadata": {
        "jupyter": {
          "outputs_hidden": false,
          "source_hidden": false
        },
        "nteract": {
          "transient": {
            "deleting": false
          }
        }
      },
      "outputs": [],
      "source": [
        "monthly_avg = ts_nomissing.groupby('DeviceId').resample('M').mean().reset_index(drop=True)\n",
        "monthly_avg['geometry'] = [Point(monthly_avg.Longitude[i],monthly_avg.Latitude[i]) for i in range(len(monthly_avg))]\n",
        "monthly_avg = gpd.GeoDataFrame(monthly_avg)\n",
        "monthly_avg=monthly_avg.set_crs(\"EPSG:4326\")"
      ]
    },
    {
      "cell_type": "code",
      "execution_count": null,
      "metadata": {
        "jupyter": {
          "outputs_hidden": false,
          "source_hidden": false
        },
        "nteract": {
          "transient": {
            "deleting": false
          }
        }
      },
      "outputs": [],
      "source": [
        "ts_nomissing['CalibratedPM25']"
      ]
    },
    {
      "cell_type": "code",
      "execution_count": null,
      "metadata": {
        "jupyter": {
          "outputs_hidden": false,
          "source_hidden": false
        },
        "nteract": {
          "transient": {
            "deleting": false
          }
        }
      },
      "outputs": [],
      "source": [
        "from shapely.geometry import mapping\n",
        "import rioxarray as rxr\n",
        "import xarray as xr\n",
        "import geopandas as gpd"
      ]
    },
    {
      "cell_type": "code",
      "execution_count": null,
      "metadata": {
        "jupyter": {
          "outputs_hidden": false,
          "source_hidden": false
        },
        "nteract": {
          "transient": {
            "deleting": false
          }
        }
      },
      "outputs": [],
      "source": [
        "f = gpd.read_file('shapefiles/tmp_clipped.shp')\n",
        "f = f.to_crs(monthly_avg.crs)\n",
        "hwy = gpd.read_file('shapefiles/hwy.shp')\n",
        "hwy = hwy.to_crs(monthly_avg.crs)"
      ]
    },
    {
      "cell_type": "code",
      "execution_count": null,
      "metadata": {
        "jupyter": {
          "outputs_hidden": false,
          "source_hidden": false
        },
        "nteract": {
          "transient": {
            "deleting": false
          }
        }
      },
      "outputs": [],
      "source": [
        "fig,ax = plt.subplots(figsize=(10,10))\n",
        "f.plot('pm25',ax=ax,vmin=10,vmax=15)\n",
        "hwy.plot(color='k',ax=ax,linewidth=0.25)\n",
        "monthly_avg.plot('CalibratedPM25',vmin=10,vmax=15,ax=ax,s=20,edgecolor='white',linewidth=0.25,zorder=10,\n",
        "                legend=True,legend_kwds={'fraction':0.03, 'pad':0.04, 'label':r'${\\mu}g/m^3$'})\n",
        "ax.axis('off')\n",
        "ax.set_title(r'Monthly Average PM$_{2.5}$ over Chicago')\n",
        "plt.show()\n",
        "\n",
        "fig,ax = plt.subplots(figsize=(10,10))\n",
        "f.plot('no2',ax=ax,vmin=10,vmax=20)\n",
        "hwy.plot(color='k',ax=ax,linewidth=0.25)\n",
        "monthly_avg.plot('CalibratedNO2',vmin=10,vmax=20,ax=ax,s=20,edgecolor='white',linewidth=0.25,zorder=10,\n",
        "                legend=True,legend_kwds={'fraction':0.03, 'pad':0.04, 'label':r'${\\mu}g/m^3$'})\n",
        "ax.axis('off')\n",
        "ax.set_title(r'Monthly Average NO2$_{2.5}$ over Chicago')\n",
        "plt.show()"
      ]
    },
    {
      "cell_type": "code",
      "execution_count": null,
      "metadata": {
        "jupyter": {
          "outputs_hidden": false,
          "source_hidden": false
        },
        "nteract": {
          "transient": {
            "deleting": false
          }
        }
      },
      "outputs": [],
      "source": [
        "ts_nomissing.to_csv('cleaned_data.csv')"
      ]
    },
    {
      "cell_type": "code",
      "execution_count": null,
      "metadata": {
        "jupyter": {
          "outputs_hidden": false,
          "source_hidden": false
        },
        "nteract": {
          "transient": {
            "deleting": false
          }
        }
      },
      "outputs": [],
      "source": [
        "\n",
        "print(df[df['LocationName'] == 'EPA COM ED Maintenance Bldg D']['DeviceId'].unique()) # 2008\n",
        "print(df[df['LocationName'] == 'EPA COM ED Maintenance Bldg C']['DeviceId'].unique()) #2017\n",
        "print(df[df['LocationName'] == 'EPA COM ED Maintenance Bldg E']['DeviceId'].unique()) #2208\n",
        "\n",
        "print(df[df['LocationName'] == 'EPA Springfield Pump Station C']['DeviceId'].unique()) #2010\n",
        "print(df[df['LocationName'] == 'EPA Springfield Pump Station B']['DeviceId'].unique()) #2009\n",
        "print(df[df['LocationName'] == 'EPA Springfield Pump Station E']['DeviceId'].unique()) #2212\n",
        "\n",
        "print(df[df['LocationName'] == 'EPA Village Garage D']['DeviceId'].unique()) #2144\n",
        "print(df[df['LocationName'] == 'EPA Village Garage C']['DeviceId'].unique()) #2014\n",
        "print(df[df['LocationName'] == 'EPA Village Garage B']['DeviceId'].unique()) #2013\n"
      ]
    },
    {
      "cell_type": "code",
      "execution_count": null,
      "metadata": {
        "jupyter": {
          "outputs_hidden": false,
          "source_hidden": false
        },
        "nteract": {
          "transient": {
            "deleting": false
          }
        }
      },
      "outputs": [],
      "source": [
        "df[df['LocationName'] == 'EPA COM ED Maintenance Bldg D']\n",
        "df[df.DeviceId == missing_ids[12]]\n"
      ]
    },
    {
      "cell_type": "code",
      "execution_count": null,
      "metadata": {
        "jupyter": {
          "outputs_hidden": false,
          "source_hidden": false
        },
        "nteract": {
          "transient": {
            "deleting": false
          }
        }
      },
      "outputs": [],
      "source": [
        "for i in range(len(missing_ids)):\n",
        "    print(df[df.DeviceId == missing_ids[i]]['LocationName'].iloc[0])"
      ]
    },
    {
      "cell_type": "code",
      "execution_count": null,
      "metadata": {
        "jupyter": {
          "outputs_hidden": false,
          "source_hidden": false
        },
        "nteract": {
          "transient": {
            "deleting": false
          }
        }
      },
      "outputs": [],
      "source": []
    }
  ],
  "metadata": {
    "kernel_info": {
      "name": "python38-azureml"
    },
    "kernelspec": {
      "display_name": "Python 3.8 - AzureML",
      "language": "python",
      "name": "python38-azureml"
    },
    "language_info": {
      "codemirror_mode": {
        "name": "ipython",
        "version": 3
      },
      "file_extension": ".py",
      "mimetype": "text/x-python",
      "name": "python",
      "nbconvert_exporter": "python",
      "pygments_lexer": "ipython3",
      "version": "3.8.5"
    },
    "nteract": {
      "version": "nteract-front-end@1.0.0"
    }
  },
  "nbformat": 4,
  "nbformat_minor": 0
}
