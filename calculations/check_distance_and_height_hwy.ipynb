{
  "cells": [
    {
      "cell_type": "code",
      "execution_count": 2,
      "metadata": {
        "jupyter": {
          "outputs_hidden": false,
          "source_hidden": false
        },
        "nteract": {
          "transient": {
            "deleting": false
          }
        }
      },
      "outputs": [
        {
          "name": "stderr",
          "output_type": "stream",
          "text": [
            "/anaconda/envs/azureml_py38/lib/python3.8/site-packages/geopandas/_compat.py:111: UserWarning: The Shapely GEOS version (3.8.0-CAPI-1.13.1 ) is incompatible with the GEOS version PyGEOS was compiled with (3.10.1-CAPI-1.16.0). Conversions between both will be slow.\n",
            "  warnings.warn(\n"
          ]
        }
      ],
      "source": [
        "import pandas as pd\n",
        "import numpy as np\n",
        "import matplotlib.pyplot as plt\n",
        "from shapely.geometry import Point\n",
        "import geopandas as gpd"
      ]
    },
    {
      "cell_type": "code",
      "execution_count": 435,
      "metadata": {
        "jupyter": {
          "outputs_hidden": false,
          "source_hidden": false
        },
        "nteract": {
          "transient": {
            "deleting": false
          }
        }
      },
      "outputs": [
        {
          "name": "stderr",
          "output_type": "stream",
          "text": [
            "/anaconda/envs/azureml_py38/lib/python3.8/site-packages/pyproj/crs/crs.py:130: FutureWarning: '+init=<authority>:<code>' syntax is deprecated. '<authority>:<code>' is the preferred initialization method. When making the change, be mindful of axis order changes: https://pyproj4.github.io/pyproj/stable/gotchas.html#axis-order-changes-in-proj-6\n",
            "  in_crs_string = _prepare_from_proj_string(in_crs_string)\n"
          ]
        },
        {
          "data": {
            "text/html": [
              "<div>\n",
              "<style scoped>\n",
              "    .dataframe tbody tr th:only-of-type {\n",
              "        vertical-align: middle;\n",
              "    }\n",
              "\n",
              "    .dataframe tbody tr th {\n",
              "        vertical-align: top;\n",
              "    }\n",
              "\n",
              "    .dataframe thead th {\n",
              "        text-align: right;\n",
              "    }\n",
              "</style>\n",
              "<table border=\"1\" class=\"dataframe\">\n",
              "  <thead>\n",
              "    <tr style=\"text-align: right;\">\n",
              "      <th></th>\n",
              "      <th>ids</th>\n",
              "      <th>lon</th>\n",
              "      <th>lat</th>\n",
              "      <th>ec_no2</th>\n",
              "      <th>ec_pm25</th>\n",
              "      <th>cmaq_no2</th>\n",
              "      <th>cmaq_pm25</th>\n",
              "      <th>geometry</th>\n",
              "    </tr>\n",
              "  </thead>\n",
              "  <tbody>\n",
              "    <tr>\n",
              "      <th>0</th>\n",
              "      <td>2002.0</td>\n",
              "      <td>-87.625857</td>\n",
              "      <td>41.794921</td>\n",
              "      <td>9.685696</td>\n",
              "      <td>12.794769</td>\n",
              "      <td>13.747754</td>\n",
              "      <td>11.619959</td>\n",
              "      <td>POINT (-87.62586 41.79492)</td>\n",
              "    </tr>\n",
              "    <tr>\n",
              "      <th>1</th>\n",
              "      <td>2003.0</td>\n",
              "      <td>-87.625500</td>\n",
              "      <td>41.795500</td>\n",
              "      <td>8.092448</td>\n",
              "      <td>12.115704</td>\n",
              "      <td>13.747754</td>\n",
              "      <td>11.619959</td>\n",
              "      <td>POINT (-87.62550 41.79550)</td>\n",
              "    </tr>\n",
              "    <tr>\n",
              "      <th>2</th>\n",
              "      <td>2004.0</td>\n",
              "      <td>-87.695204</td>\n",
              "      <td>41.845100</td>\n",
              "      <td>10.212403</td>\n",
              "      <td>13.687532</td>\n",
              "      <td>19.068060</td>\n",
              "      <td>12.643562</td>\n",
              "      <td>POINT (-87.69520 41.84510)</td>\n",
              "    </tr>\n",
              "    <tr>\n",
              "      <th>3</th>\n",
              "      <td>2005.0</td>\n",
              "      <td>-87.695200</td>\n",
              "      <td>41.852400</td>\n",
              "      <td>9.833608</td>\n",
              "      <td>13.833757</td>\n",
              "      <td>18.049189</td>\n",
              "      <td>12.489958</td>\n",
              "      <td>POINT (-87.69520 41.85240)</td>\n",
              "    </tr>\n",
              "    <tr>\n",
              "      <th>4</th>\n",
              "      <td>2006.0</td>\n",
              "      <td>-87.695400</td>\n",
              "      <td>41.852300</td>\n",
              "      <td>10.853654</td>\n",
              "      <td>13.970006</td>\n",
              "      <td>18.049189</td>\n",
              "      <td>12.489958</td>\n",
              "      <td>POINT (-87.69540 41.85230)</td>\n",
              "    </tr>\n",
              "    <tr>\n",
              "      <th>...</th>\n",
              "      <td>...</td>\n",
              "      <td>...</td>\n",
              "      <td>...</td>\n",
              "      <td>...</td>\n",
              "      <td>...</td>\n",
              "      <td>...</td>\n",
              "      <td>...</td>\n",
              "      <td>...</td>\n",
              "    </tr>\n",
              "    <tr>\n",
              "      <th>82</th>\n",
              "      <td>2150.0</td>\n",
              "      <td>-87.764700</td>\n",
              "      <td>41.880300</td>\n",
              "      <td>9.167888</td>\n",
              "      <td>13.031814</td>\n",
              "      <td>13.532202</td>\n",
              "      <td>12.003487</td>\n",
              "      <td>POINT (-87.76470 41.88030)</td>\n",
              "    </tr>\n",
              "    <tr>\n",
              "      <th>83</th>\n",
              "      <td>2174.0</td>\n",
              "      <td>-87.729633</td>\n",
              "      <td>41.844104</td>\n",
              "      <td>14.513113</td>\n",
              "      <td>15.275407</td>\n",
              "      <td>17.490239</td>\n",
              "      <td>12.680948</td>\n",
              "      <td>POINT (-87.72963 41.84410)</td>\n",
              "    </tr>\n",
              "    <tr>\n",
              "      <th>84</th>\n",
              "      <td>2176.0</td>\n",
              "      <td>-87.539967</td>\n",
              "      <td>41.688054</td>\n",
              "      <td>5.317141</td>\n",
              "      <td>8.793844</td>\n",
              "      <td>10.817750</td>\n",
              "      <td>11.951467</td>\n",
              "      <td>POINT (-87.53997 41.68805)</td>\n",
              "    </tr>\n",
              "    <tr>\n",
              "      <th>85</th>\n",
              "      <td>2184.0</td>\n",
              "      <td>-87.672189</td>\n",
              "      <td>41.881471</td>\n",
              "      <td>15.486077</td>\n",
              "      <td>13.079416</td>\n",
              "      <td>18.218984</td>\n",
              "      <td>12.936218</td>\n",
              "      <td>POINT (-87.67219 41.88147)</td>\n",
              "    </tr>\n",
              "    <tr>\n",
              "      <th>86</th>\n",
              "      <td>2185.0</td>\n",
              "      <td>-87.745500</td>\n",
              "      <td>41.887900</td>\n",
              "      <td>10.507374</td>\n",
              "      <td>13.197734</td>\n",
              "      <td>15.957881</td>\n",
              "      <td>12.340818</td>\n",
              "      <td>POINT (-87.74550 41.88790)</td>\n",
              "    </tr>\n",
              "  </tbody>\n",
              "</table>\n",
              "<p>87 rows × 8 columns</p>\n",
              "</div>"
            ],
            "text/plain": [
              "       ids        lon        lat     ec_no2    ec_pm25   cmaq_no2  cmaq_pm25  \\\n",
              "0   2002.0 -87.625857  41.794921   9.685696  12.794769  13.747754  11.619959   \n",
              "1   2003.0 -87.625500  41.795500   8.092448  12.115704  13.747754  11.619959   \n",
              "2   2004.0 -87.695204  41.845100  10.212403  13.687532  19.068060  12.643562   \n",
              "3   2005.0 -87.695200  41.852400   9.833608  13.833757  18.049189  12.489958   \n",
              "4   2006.0 -87.695400  41.852300  10.853654  13.970006  18.049189  12.489958   \n",
              "..     ...        ...        ...        ...        ...        ...        ...   \n",
              "82  2150.0 -87.764700  41.880300   9.167888  13.031814  13.532202  12.003487   \n",
              "83  2174.0 -87.729633  41.844104  14.513113  15.275407  17.490239  12.680948   \n",
              "84  2176.0 -87.539967  41.688054   5.317141   8.793844  10.817750  11.951467   \n",
              "85  2184.0 -87.672189  41.881471  15.486077  13.079416  18.218984  12.936218   \n",
              "86  2185.0 -87.745500  41.887900  10.507374  13.197734  15.957881  12.340818   \n",
              "\n",
              "                      geometry  \n",
              "0   POINT (-87.62586 41.79492)  \n",
              "1   POINT (-87.62550 41.79550)  \n",
              "2   POINT (-87.69520 41.84510)  \n",
              "3   POINT (-87.69520 41.85240)  \n",
              "4   POINT (-87.69540 41.85230)  \n",
              "..                         ...  \n",
              "82  POINT (-87.76470 41.88030)  \n",
              "83  POINT (-87.72963 41.84410)  \n",
              "84  POINT (-87.53997 41.68805)  \n",
              "85  POINT (-87.67219 41.88147)  \n",
              "86  POINT (-87.74550 41.88790)  \n",
              "\n",
              "[87 rows x 8 columns]"
            ]
          },
          "execution_count": 435,
          "metadata": {},
          "output_type": "execute_result"
        }
      ],
      "source": [
        "ec= pd.read_csv('../dataAnalysis/monthly_08_eclipse.csv')\n",
        "#ec['datetime'] = pd.to_datetime(ec['Unnamed: 0'])\n",
        "\n",
        "# algorithmically look at each point and if it near the roadways\n",
        "ids = ec.DeviceId.unique()\n",
        "\n",
        "lo,la,ec_no2,ec_pm25,cmaq_no2,cmaq_pm25 = [],[],[],[],[],[]\n",
        "for i in range(len(ids)):\n",
        "    tmp = ec[ec.DeviceId == ids[i]]\n",
        "    lo.append(tmp.Longitude.unique()[0]);la.append(tmp.Latitude.unique()[0])\n",
        "    cmaq_no2.append(np.mean(tmp.NO2));\n",
        "    cmaq_pm25.append(np.mean(tmp.PM25_TOT));\n",
        "    ec_no2.append(np.mean(tmp.CalibratedNO2));\n",
        "    ec_pm25.append(np.mean(tmp.CalibratedPM25));\n",
        "\n",
        "ids = [int(ids[i]) for i in range(len(ids))]\n",
        "\n",
        "geometry = [Point(lo[i],la[i]) for i in range(len(lo))]\n",
        "eclipse = gpd.GeoDataFrame(pd.DataFrame([ids,lo,la,ec_no2,ec_pm25,cmaq_no2,cmaq_pm25]).T,geometry = geometry,crs ={'init': 'epsg:4326'})\n",
        "eclipse.columns = ['ids','lon','lat','ec_no2','ec_pm25','cmaq_no2','cmaq_pm25','geometry']\n",
        "eclipse\n"
      ]
    },
    {
      "cell_type": "code",
      "execution_count": 436,
      "metadata": {
        "jupyter": {
          "outputs_hidden": false,
          "source_hidden": false
        },
        "nteract": {
          "transient": {
            "deleting": false
          }
        }
      },
      "outputs": [],
      "source": [
        "streets = gpd.read_file('../shapefiles/geo_export_d268c11a-e3fe-42de-a88f-ad64688102f5.shp')\n",
        "# make meters EPSG so we can check buffers# make meters EPSG so we can check buffers\n",
        "streets = streets.to_crs(\"EPSG:3857\")\n",
        "eclipse = eclipse.to_crs(streets.crs)\n",
        "\n",
        "class1 = streets[streets['class'] == '1'].reset_index(drop=True)\n",
        "class2 = streets[streets['class'] == '2'].reset_index(drop=True)"
      ]
    },
    {
      "cell_type": "code",
      "execution_count": 437,
      "metadata": {
        "jupyter": {
          "outputs_hidden": false,
          "source_hidden": false
        },
        "nteract": {
          "transient": {
            "deleting": false
          }
        }
      },
      "outputs": [],
      "source": [
        "# calculate distance of eclipse to hwy\n",
        "single_track_line = class1.unary_union\n",
        "\n",
        "eclipse['dist'] = eclipse.distance(single_track_line)"
      ]
    },
    {
      "cell_type": "code",
      "execution_count": 438,
      "metadata": {
        "jupyter": {
          "outputs_hidden": false,
          "source_hidden": false
        },
        "nteract": {
          "transient": {
            "deleting": false
          }
        }
      },
      "outputs": [],
      "source": [
        "a = []\n",
        "for i in range(len(class1)):\n",
        "    a.append(list(eclipse.distance(class1.geometry[i])))\n",
        "\n",
        "a=pd.DataFrame(a)\n",
        "mina = a.idxmin()"
      ]
    },
    {
      "cell_type": "code",
      "execution_count": 439,
      "metadata": {
        "jupyter": {
          "outputs_hidden": false,
          "source_hidden": false
        },
        "nteract": {
          "transient": {
            "deleting": false
          }
        }
      },
      "outputs": [],
      "source": [
        "eclipse['height'] = [class1['t_zlev'][mina[i]] for i in range(len(mina))]"
      ]
    },
    {
      "cell_type": "code",
      "execution_count": 440,
      "metadata": {
        "jupyter": {
          "outputs_hidden": false,
          "source_hidden": false
        },
        "nteract": {
          "transient": {
            "deleting": false
          }
        }
      },
      "outputs": [
        {
          "data": {
            "image/png": "[encoded data removed]",
            "text/plain": [
              "<Figure size 400x400 with 1 Axes>"
            ]
          },
          "metadata": {},
          "output_type": "display_data"
        },
        {
          "data": {
            "image/png": "[encoded data removed]",
            "text/plain": [
              "<Figure size 400x400 with 1 Axes>"
            ]
          },
          "metadata": {},
          "output_type": "display_data"
        },
        {
          "data": {
            "image/png": "[encoded data removed]",
            "text/plain": [
              "<Figure size 1200x800 with 1 Axes>"
            ]
          },
          "metadata": {},
          "output_type": "display_data"
        },
        {
          "data": {
            "image/png": "[encoded data removed]",
            "text/plain": [
              "<Figure size 600x300 with 2 Axes>"
            ]
          },
          "metadata": {},
          "output_type": "display_data"
        },
        {
          "data": {
            "image/png": "[encoded data removed]",
            "text/plain": [
              "<Figure size 600x300 with 2 Axes>"
            ]
          },
          "metadata": {},
          "output_type": "display_data"
        },
        {
          "data": {
            "image/png": "[encoded data removed]",
            "text/plain": [
              "<Figure size 1200x800 with 1 Axes>"
            ]
          },
          "metadata": {},
          "output_type": "display_data"
        }
      ],
      "source": [
        "fig,ax=plt.subplots(figsize=(12,8))\n",
        "\n",
        "chi_shp = gpd.read_file('../shapefiles/geo_export_77af1a6a-f8ec-47f4-977c-40956cd94f97.shp')\n",
        "\n",
        "eclipse.plot('dist',ax=ax)\n",
        "class1.plot(ax=ax)\n",
        "plt.show()\n",
        "\n",
        "\n",
        "# how to add in zlev info?"
      ]
    },
    {
      "cell_type": "code",
      "execution_count": 441,
      "metadata": {
        "jupyter": {
          "outputs_hidden": false,
          "source_hidden": false
        },
        "nteract": {
          "transient": {
            "deleting": false
          }
        }
      },
      "outputs": [
        {
          "data": {
            "image/png": "[encoded data removed]",
            "text/plain": [
              "<Figure size 640x480 with 1 Axes>"
            ]
          },
          "metadata": {},
          "output_type": "display_data"
        }
      ],
      "source": [
        "plt.scatter(eclipse.dist,eclipse.ec_no2)\n",
        "plt.xlabel('Distance (m)')\n",
        "plt.ylabel('NO2 (ppb)')\n",
        "plt.show()"
      ]
    },
    {
      "cell_type": "code",
      "execution_count": 442,
      "metadata": {
        "jupyter": {
          "outputs_hidden": false,
          "source_hidden": false
        },
        "nteract": {
          "transient": {
            "deleting": false
          }
        }
      },
      "outputs": [
        {
          "data": {
            "text/html": [
              "<div>\n",
              "<style scoped>\n",
              "    .dataframe tbody tr th:only-of-type {\n",
              "        vertical-align: middle;\n",
              "    }\n",
              "\n",
              "    .dataframe tbody tr th {\n",
              "        vertical-align: top;\n",
              "    }\n",
              "\n",
              "    .dataframe thead th {\n",
              "        text-align: right;\n",
              "    }\n",
              "</style>\n",
              "<table border=\"1\" class=\"dataframe\">\n",
              "  <thead>\n",
              "    <tr style=\"text-align: right;\">\n",
              "      <th></th>\n",
              "      <th>ids</th>\n",
              "      <th>lon</th>\n",
              "      <th>lat</th>\n",
              "      <th>ec_no2</th>\n",
              "      <th>ec_pm25</th>\n",
              "      <th>cmaq_no2</th>\n",
              "      <th>cmaq_pm25</th>\n",
              "      <th>geometry</th>\n",
              "      <th>dist</th>\n",
              "      <th>height</th>\n",
              "    </tr>\n",
              "  </thead>\n",
              "  <tbody>\n",
              "    <tr>\n",
              "      <th>77</th>\n",
              "      <td>2136.0</td>\n",
              "      <td>-87.6779</td>\n",
              "      <td>41.921581</td>\n",
              "      <td>9.415527</td>\n",
              "      <td>12.099551</td>\n",
              "      <td>17.848062</td>\n",
              "      <td>12.603656</td>\n",
              "      <td>POINT (-9760259.182 5149239.887)</td>\n",
              "      <td>50.586668</td>\n",
              "      <td>1.0</td>\n",
              "    </tr>\n",
              "  </tbody>\n",
              "</table>\n",
              "</div>"
            ],
            "text/plain": [
              "       ids      lon        lat    ec_no2    ec_pm25   cmaq_no2  cmaq_pm25  \\\n",
              "77  2136.0 -87.6779  41.921581  9.415527  12.099551  17.848062  12.603656   \n",
              "\n",
              "                            geometry       dist  height  \n",
              "77  POINT (-9760259.182 5149239.887)  50.586668     1.0  "
            ]
          },
          "execution_count": 442,
          "metadata": {},
          "output_type": "execute_result"
        }
      ],
      "source": [
        "eclipse[eclipse.ids == 2136]"
      ]
    },
    {
      "cell_type": "code",
      "execution_count": 450,
      "metadata": {
        "jupyter": {
          "outputs_hidden": false,
          "source_hidden": false
        },
        "nteract": {
          "transient": {
            "deleting": false
          }
        }
      },
      "outputs": [
        {
          "data": {
            "image/png": "[encoded data removed]",
            "text/plain": [
              "<Figure size 640x480 with 1 Axes>"
            ]
          },
          "metadata": {},
          "output_type": "display_data"
        }
      ],
      "source": [
        "c = ['forestgreen','cornflowerblue','maroon','goldenrod']\n",
        "\n",
        "for i in range(-1,3):\n",
        "    x = eclipse[(eclipse.height == i) & (eclipse.dist < 2500) & (eclipse.ec_no2 > 5)]\n",
        "    plt.scatter(x.dist,x.ec_no2,c = c[i],label = 'height = '+str(i))\n",
        "    #if (np.sum(x.ids == 2013)> 0):\n",
        "        #f = eclipse[eclipse.ids == 2013]\n",
        "        #plt.scatter(f.dist,f.ec_no2,label='Village')\n",
        "    if len(x.dist) > 0:\n",
        "        m, b = np.polyfit(x.dist, x.ec_no2, 1)\n",
        "        xi = x.dist\n",
        "        plt.plot(xi, m*xi+b, c=c[i])\n",
        "\n",
        "plt.xlabel('Distance (m)')\n",
        "plt.ylabel('NO2 (ppb)')\n",
        "plt.legend(bbox_to_anchor =(1, 0.55))\n",
        "\n",
        "plt.show()"
      ]
    },
    {
      "cell_type": "code",
      "execution_count": 451,
      "metadata": {
        "jupyter": {
          "outputs_hidden": false,
          "source_hidden": false
        },
        "nteract": {
          "transient": {
            "deleting": false
          }
        }
      },
      "outputs": [
        {
          "data": {
            "text/html": [
              "<div>\n",
              "<style scoped>\n",
              "    .dataframe tbody tr th:only-of-type {\n",
              "        vertical-align: middle;\n",
              "    }\n",
              "\n",
              "    .dataframe tbody tr th {\n",
              "        vertical-align: top;\n",
              "    }\n",
              "\n",
              "    .dataframe thead th {\n",
              "        text-align: right;\n",
              "    }\n",
              "</style>\n",
              "<table border=\"1\" class=\"dataframe\">\n",
              "  <thead>\n",
              "    <tr style=\"text-align: right;\">\n",
              "      <th></th>\n",
              "      <th>ids</th>\n",
              "      <th>lon</th>\n",
              "      <th>lat</th>\n",
              "      <th>ec_no2</th>\n",
              "      <th>ec_pm25</th>\n",
              "      <th>cmaq_no2</th>\n",
              "      <th>cmaq_pm25</th>\n",
              "      <th>geometry</th>\n",
              "      <th>dist</th>\n",
              "      <th>height</th>\n",
              "    </tr>\n",
              "  </thead>\n",
              "  <tbody>\n",
              "    <tr>\n",
              "      <th>0</th>\n",
              "      <td>2002.0</td>\n",
              "      <td>-87.625857</td>\n",
              "      <td>41.794921</td>\n",
              "      <td>9.685696</td>\n",
              "      <td>12.794769</td>\n",
              "      <td>13.747754</td>\n",
              "      <td>11.619959</td>\n",
              "      <td>POINT (-9754465.782 5130308.935)</td>\n",
              "      <td>547.996154</td>\n",
              "      <td>-1.0</td>\n",
              "    </tr>\n",
              "    <tr>\n",
              "      <th>1</th>\n",
              "      <td>2003.0</td>\n",
              "      <td>-87.625500</td>\n",
              "      <td>41.795500</td>\n",
              "      <td>8.092448</td>\n",
              "      <td>12.115704</td>\n",
              "      <td>13.747754</td>\n",
              "      <td>11.619959</td>\n",
              "      <td>POINT (-9754426.041 5130395.389)</td>\n",
              "      <td>589.094918</td>\n",
              "      <td>-1.0</td>\n",
              "    </tr>\n",
              "    <tr>\n",
              "      <th>2</th>\n",
              "      <td>2004.0</td>\n",
              "      <td>-87.695204</td>\n",
              "      <td>41.845100</td>\n",
              "      <td>10.212403</td>\n",
              "      <td>13.687532</td>\n",
              "      <td>19.068060</td>\n",
              "      <td>12.643562</td>\n",
              "      <td>POINT (-9762185.454 5137804.343)</td>\n",
              "      <td>1755.560572</td>\n",
              "      <td>1.0</td>\n",
              "    </tr>\n",
              "    <tr>\n",
              "      <th>3</th>\n",
              "      <td>2005.0</td>\n",
              "      <td>-87.695200</td>\n",
              "      <td>41.852400</td>\n",
              "      <td>9.833608</td>\n",
              "      <td>13.833757</td>\n",
              "      <td>18.049189</td>\n",
              "      <td>12.489958</td>\n",
              "      <td>POINT (-9762185.009 5138895.258)</td>\n",
              "      <td>2758.785966</td>\n",
              "      <td>1.0</td>\n",
              "    </tr>\n",
              "    <tr>\n",
              "      <th>4</th>\n",
              "      <td>2006.0</td>\n",
              "      <td>-87.695400</td>\n",
              "      <td>41.852300</td>\n",
              "      <td>10.853654</td>\n",
              "      <td>13.970006</td>\n",
              "      <td>18.049189</td>\n",
              "      <td>12.489958</td>\n",
              "      <td>POINT (-9762207.273 5138880.313)</td>\n",
              "      <td>2753.904458</td>\n",
              "      <td>1.0</td>\n",
              "    </tr>\n",
              "    <tr>\n",
              "      <th>...</th>\n",
              "      <td>...</td>\n",
              "      <td>...</td>\n",
              "      <td>...</td>\n",
              "      <td>...</td>\n",
              "      <td>...</td>\n",
              "      <td>...</td>\n",
              "      <td>...</td>\n",
              "      <td>...</td>\n",
              "      <td>...</td>\n",
              "      <td>...</td>\n",
              "    </tr>\n",
              "    <tr>\n",
              "      <th>82</th>\n",
              "      <td>2150.0</td>\n",
              "      <td>-87.764700</td>\n",
              "      <td>41.880300</td>\n",
              "      <td>9.167888</td>\n",
              "      <td>13.031814</td>\n",
              "      <td>13.532202</td>\n",
              "      <td>12.003487</td>\n",
              "      <td>POINT (-9769921.714 5143065.795)</td>\n",
              "      <td>1333.465459</td>\n",
              "      <td>-1.0</td>\n",
              "    </tr>\n",
              "    <tr>\n",
              "      <th>83</th>\n",
              "      <td>2174.0</td>\n",
              "      <td>-87.729633</td>\n",
              "      <td>41.844104</td>\n",
              "      <td>14.513113</td>\n",
              "      <td>15.275407</td>\n",
              "      <td>17.490239</td>\n",
              "      <td>12.680948</td>\n",
              "      <td>POINT (-9766018.073 5137655.510)</td>\n",
              "      <td>3108.920954</td>\n",
              "      <td>1.0</td>\n",
              "    </tr>\n",
              "    <tr>\n",
              "      <th>84</th>\n",
              "      <td>2176.0</td>\n",
              "      <td>-87.539967</td>\n",
              "      <td>41.688054</td>\n",
              "      <td>5.317141</td>\n",
              "      <td>8.793844</td>\n",
              "      <td>10.817750</td>\n",
              "      <td>11.951467</td>\n",
              "      <td>POINT (-9744904.550 5114365.380)</td>\n",
              "      <td>2823.035440</td>\n",
              "      <td>1.0</td>\n",
              "    </tr>\n",
              "    <tr>\n",
              "      <th>85</th>\n",
              "      <td>2184.0</td>\n",
              "      <td>-87.672189</td>\n",
              "      <td>41.881471</td>\n",
              "      <td>15.486077</td>\n",
              "      <td>13.079416</td>\n",
              "      <td>18.218984</td>\n",
              "      <td>12.936218</td>\n",
              "      <td>POINT (-9759623.436 5143240.878)</td>\n",
              "      <td>831.154685</td>\n",
              "      <td>-1.0</td>\n",
              "    </tr>\n",
              "    <tr>\n",
              "      <th>86</th>\n",
              "      <td>2185.0</td>\n",
              "      <td>-87.745500</td>\n",
              "      <td>41.887900</td>\n",
              "      <td>10.507374</td>\n",
              "      <td>13.197734</td>\n",
              "      <td>15.957881</td>\n",
              "      <td>12.340818</td>\n",
              "      <td>POINT (-9767784.379 5144202.171)</td>\n",
              "      <td>2408.009162</td>\n",
              "      <td>-1.0</td>\n",
              "    </tr>\n",
              "  </tbody>\n",
              "</table>\n",
              "<p>87 rows × 10 columns</p>\n",
              "</div>"
            ],
            "text/plain": [
              "       ids        lon        lat     ec_no2    ec_pm25   cmaq_no2  cmaq_pm25  \\\n",
              "0   2002.0 -87.625857  41.794921   9.685696  12.794769  13.747754  11.619959   \n",
              "1   2003.0 -87.625500  41.795500   8.092448  12.115704  13.747754  11.619959   \n",
              "2   2004.0 -87.695204  41.845100  10.212403  13.687532  19.068060  12.643562   \n",
              "3   2005.0 -87.695200  41.852400   9.833608  13.833757  18.049189  12.489958   \n",
              "4   2006.0 -87.695400  41.852300  10.853654  13.970006  18.049189  12.489958   \n",
              "..     ...        ...        ...        ...        ...        ...        ...   \n",
              "82  2150.0 -87.764700  41.880300   9.167888  13.031814  13.532202  12.003487   \n",
              "83  2174.0 -87.729633  41.844104  14.513113  15.275407  17.490239  12.680948   \n",
              "84  2176.0 -87.539967  41.688054   5.317141   8.793844  10.817750  11.951467   \n",
              "85  2184.0 -87.672189  41.881471  15.486077  13.079416  18.218984  12.936218   \n",
              "86  2185.0 -87.745500  41.887900  10.507374  13.197734  15.957881  12.340818   \n",
              "\n",
              "                            geometry         dist  height  \n",
              "0   POINT (-9754465.782 5130308.935)   547.996154    -1.0  \n",
              "1   POINT (-9754426.041 5130395.389)   589.094918    -1.0  \n",
              "2   POINT (-9762185.454 5137804.343)  1755.560572     1.0  \n",
              "3   POINT (-9762185.009 5138895.258)  2758.785966     1.0  \n",
              "4   POINT (-9762207.273 5138880.313)  2753.904458     1.0  \n",
              "..                               ...          ...     ...  \n",
              "82  POINT (-9769921.714 5143065.795)  1333.465459    -1.0  \n",
              "83  POINT (-9766018.073 5137655.510)  3108.920954     1.0  \n",
              "84  POINT (-9744904.550 5114365.380)  2823.035440     1.0  \n",
              "85  POINT (-9759623.436 5143240.878)   831.154685    -1.0  \n",
              "86  POINT (-9767784.379 5144202.171)  2408.009162    -1.0  \n",
              "\n",
              "[87 rows x 10 columns]"
            ]
          },
          "execution_count": 451,
          "metadata": {},
          "output_type": "execute_result"
        }
      ],
      "source": [
        "eclipse"
      ]
    },
    {
      "cell_type": "code",
      "execution_count": 445,
      "metadata": {
        "jupyter": {
          "outputs_hidden": false,
          "source_hidden": false
        },
        "nteract": {
          "transient": {
            "deleting": false
          }
        }
      },
      "outputs": [
        {
          "data": {
            "text/plain": [
              "Series([], Name: ec_no2, dtype: float64)"
            ]
          },
          "execution_count": 445,
          "metadata": {},
          "output_type": "execute_result"
        }
      ],
      "source": [
        "(eclipse[(eclipse.height == i) & (eclipse.dist < 2000) & (eclipse.ec_no2 > 5)]['ec_no2'] - eclipse.ec_no2.min())/(eclipse.ec_no2.max() - eclipse.ec_no2.min())"
      ]
    },
    {
      "cell_type": "code",
      "execution_count": 452,
      "metadata": {
        "jupyter": {
          "outputs_hidden": false,
          "source_hidden": false
        },
        "nteract": {
          "transient": {
            "deleting": false
          }
        }
      },
      "outputs": [
        {
          "data": {
            "image/png": "[encoded data removed]",
            "text/plain": [
              "<Figure size 600x300 with 2 Axes>"
            ]
          },
          "metadata": {},
          "output_type": "display_data"
        }
      ],
      "source": [
        "c = ['forestgreen','cornflowerblue','maroon','goldenrod']\n",
        "fig,ax = plt.subplots(1,2,figsize = (6,3))\n",
        "tmp = []\n",
        "tmp2 = []\n",
        "\n",
        "for i in range(-1,2):\n",
        "    t = eclipse[(eclipse.height == i) & (eclipse.dist < 2000) & (eclipse.ec_no2 > 5)]['ec_no2']\n",
        "    tmp.append(t)\n",
        "    t = eclipse[(eclipse.height == i) & (eclipse.dist < 2000) & (eclipse.ec_no2 > 5)]['cmaq_no2']\n",
        "    tmp2.append(t)\n",
        "    #tmp2.append((eclipse[(eclipse.height == i) & (eclipse.dist < 2000) & (eclipse.ec_no2 > 5)]['cmaq_no2'] - eclipse.cmaq_no2.min())/(eclipse.cmaq_no2.max() - eclipse.cmaq_no2.min()))\n",
        "\n",
        "\n",
        "x = pd.DataFrame(tmp).T\n",
        "x.columns = ['Below Ground','Ground-Level','Above Ground']\n",
        "\n",
        "\n",
        "x2 = pd.DataFrame(tmp2).T\n",
        "x2.columns = ['Below Ground','Ground-Level','Above Ground']\n",
        "\n",
        "x.boxplot(ax=ax[0])\n",
        "x2.boxplot(ax=ax[1])\n",
        "\n",
        "plt.show()"
      ]
    },
    {
      "cell_type": "code",
      "execution_count": 454,
      "metadata": {
        "jupyter": {
          "outputs_hidden": false,
          "source_hidden": false
        },
        "nteract": {
          "transient": {
            "deleting": false
          }
        }
      },
      "outputs": [
        {
          "data": {
            "text/plain": [
              "0.1473966936564642"
            ]
          },
          "execution_count": 454,
          "metadata": {},
          "output_type": "execute_result"
        }
      ],
      "source": [
        "(np.nanmean(x['Below Ground']) - np.nanmean(x['Above Ground']))/np.nanmean(x['Below Ground'])"
      ]
    },
    {
      "cell_type": "code",
      "execution_count": 447,
      "metadata": {
        "jupyter": {
          "outputs_hidden": false,
          "source_hidden": false
        },
        "nteract": {
          "transient": {
            "deleting": false
          }
        }
      },
      "outputs": [
        {
          "data": {
            "image/png": "[encoded data removed]",
            "text/plain": [
              "<Figure size 700x300 with 2 Axes>"
            ]
          },
          "metadata": {},
          "output_type": "display_data"
        }
      ],
      "source": [
        "c = ['forestgreen','cornflowerblue','maroon','goldenrod']\n",
        "fig,ax = plt.subplots(1,2,figsize = (7,3))\n",
        "tmp = []\n",
        "tmp2 = []\n",
        "\n",
        "for i in range(-1,2):\n",
        "    t = (eclipse[(eclipse.height == i) & (eclipse.dist < 2000) & (eclipse.ec_no2 > 5)]['ec_no2'] - eclipse.ec_no2.min())/(eclipse.ec_no2.max() - eclipse.ec_no2.min())\n",
        "    t =(eclipse[(eclipse.height == i) & (eclipse.dist < 2000) & (eclipse.ec_no2 > 5)]['ec_no2'] - eclipse.ec_no2.mean())/(np.std(eclipse.ec_no2))\n",
        "    tmp.append(t)\n",
        "    t = (eclipse[(eclipse.height == i) & (eclipse.dist < 2000) & (eclipse.ec_no2 > 5)]['cmaq_no2'] - eclipse.cmaq_no2.min())/(eclipse.cmaq_no2.max() - eclipse.cmaq_no2.min())\n",
        "    t = (eclipse[(eclipse.height == i) & (eclipse.dist < 2000) & (eclipse.ec_no2 > 5)]['cmaq_no2'] - eclipse.cmaq_no2.mean())/(np.std(eclipse.cmaq_no2))\n",
        "    tmp2.append(t)\n",
        "    #tmp2.append((eclipse[(eclipse.height == i) & (eclipse.dist < 2000) & (eclipse.ec_no2 > 5)]['cmaq_no2'] - eclipse.cmaq_no2.min())/(eclipse.cmaq_no2.max() - eclipse.cmaq_no2.min()))\n",
        "\n",
        "\n",
        "x = pd.DataFrame(tmp).T\n",
        "x.columns = ['Below Ground','Ground-Level','Above Ground']\n",
        "\n",
        "\n",
        "x2 = pd.DataFrame(tmp2).T\n",
        "x2.columns = ['Below Ground','Ground-Level','Above Ground']\n",
        "\n",
        "x.boxplot(ax=ax[0])\n",
        "x2.boxplot(ax=ax[1])\n",
        "\n",
        "plt.show()\n"
      ]
    },
    {
      "cell_type": "code",
      "execution_count": 448,
      "metadata": {
        "jupyter": {
          "outputs_hidden": false,
          "source_hidden": false
        },
        "nteract": {
          "transient": {
            "deleting": false
          }
        }
      },
      "outputs": [
        {
          "data": {
            "text/html": [
              "<div>\n",
              "<style scoped>\n",
              "    .dataframe tbody tr th:only-of-type {\n",
              "        vertical-align: middle;\n",
              "    }\n",
              "\n",
              "    .dataframe tbody tr th {\n",
              "        vertical-align: top;\n",
              "    }\n",
              "\n",
              "    .dataframe thead th {\n",
              "        text-align: right;\n",
              "    }\n",
              "</style>\n",
              "<table border=\"1\" class=\"dataframe\">\n",
              "  <thead>\n",
              "    <tr style=\"text-align: right;\">\n",
              "      <th></th>\n",
              "      <th>Below Ground</th>\n",
              "      <th>Ground-Level</th>\n",
              "      <th>Above Ground</th>\n",
              "    </tr>\n",
              "  </thead>\n",
              "  <tbody>\n",
              "    <tr>\n",
              "      <th>count</th>\n",
              "      <td>18.000000</td>\n",
              "      <td>9.000000</td>\n",
              "      <td>12.000000</td>\n",
              "    </tr>\n",
              "    <tr>\n",
              "      <th>mean</th>\n",
              "      <td>0.236150</td>\n",
              "      <td>-0.384080</td>\n",
              "      <td>-0.009724</td>\n",
              "    </tr>\n",
              "    <tr>\n",
              "      <th>std</th>\n",
              "      <td>0.938613</td>\n",
              "      <td>0.738591</td>\n",
              "      <td>1.122699</td>\n",
              "    </tr>\n",
              "    <tr>\n",
              "      <th>min</th>\n",
              "      <td>-1.462253</td>\n",
              "      <td>-1.378021</td>\n",
              "      <td>-1.535893</td>\n",
              "    </tr>\n",
              "    <tr>\n",
              "      <th>25%</th>\n",
              "      <td>-0.429764</td>\n",
              "      <td>-0.628671</td>\n",
              "      <td>-1.131797</td>\n",
              "    </tr>\n",
              "    <tr>\n",
              "      <th>50%</th>\n",
              "      <td>0.031370</td>\n",
              "      <td>-0.323028</td>\n",
              "      <td>0.196669</td>\n",
              "    </tr>\n",
              "    <tr>\n",
              "      <th>75%</th>\n",
              "      <td>1.038753</td>\n",
              "      <td>-0.307306</td>\n",
              "      <td>0.812240</td>\n",
              "    </tr>\n",
              "    <tr>\n",
              "      <th>max</th>\n",
              "      <td>1.638622</td>\n",
              "      <td>1.328859</td>\n",
              "      <td>1.778829</td>\n",
              "    </tr>\n",
              "  </tbody>\n",
              "</table>\n",
              "</div>"
            ],
            "text/plain": [
              "       Below Ground  Ground-Level  Above Ground\n",
              "count     18.000000      9.000000     12.000000\n",
              "mean       0.236150     -0.384080     -0.009724\n",
              "std        0.938613      0.738591      1.122699\n",
              "min       -1.462253     -1.378021     -1.535893\n",
              "25%       -0.429764     -0.628671     -1.131797\n",
              "50%        0.031370     -0.323028      0.196669\n",
              "75%        1.038753     -0.307306      0.812240\n",
              "max        1.638622      1.328859      1.778829"
            ]
          },
          "execution_count": 448,
          "metadata": {},
          "output_type": "execute_result"
        }
      ],
      "source": [
        "x2.describe()"
      ]
    },
    {
      "cell_type": "code",
      "execution_count": 449,
      "metadata": {
        "jupyter": {
          "outputs_hidden": false,
          "source_hidden": false
        },
        "nteract": {
          "transient": {
            "deleting": false
          }
        }
      },
      "outputs": [
        {
          "data": {
            "image/png": "[encoded data removed]",
            "text/plain": [
              "<Figure size 400x400 with 1 Axes>"
            ]
          },
          "metadata": {},
          "output_type": "display_data"
        },
        {
          "name": "stdout",
          "output_type": "stream",
          "text": [
            "Comparing CMAQ vs. Exlipse\n",
            "0.3616988158463901\n",
            "0.7039327590329014\n",
            "0.6429257806872695\n",
            "Comparing Eclipse: Above-Below\n",
            "0.028572513429796765\n",
            "Comparing CMAQ: Above-Below\n",
            "0.5209593160009498\n",
            "diff between belowground-above eclipse:\n",
            "0.7091235144664567\n"
          ]
        }
      ],
      "source": [
        "import seaborn as sns\n",
        "palette =sns.color_palette(\"Set2\",3)\n",
        "\n",
        "x['DataSource'] = 'Eclipse'\n",
        "x2['DataSource'] = 'CMAQ'\n",
        "df = pd.concat([x,x2])\n",
        "df_m = pd.melt(df, id_vars=['DataSource'],var_name='data', value_name='StandardizedNO2')\n",
        "col = df_m.columns\n",
        "# dummy holder for EPA\n",
        "df_m = pd.DataFrame(np.insert(df_m.values, 0, values= ['EPA','Below Ground',np.nan], axis=0))\n",
        "df_m.columns = col\n",
        "\n",
        "fig,ax = plt.subplots(figsize=(4,4))\n",
        "#import seaborn as sns\n",
        "sns.boxplot(x = 'data', y = 'StandardizedNO2', data = df_m, hue = 'DataSource', palette=palette,ax=ax)\n",
        "plt.legend(bbox_to_anchor=(1.02, 1), loc='lower left', borderaxespad=0, ncol = 3)\n",
        "\n",
        "plt.show()\n",
        "x2.describe()\n",
        "\n",
        "import scipy.stats as stats\n",
        "\n",
        "print('Comparing CMAQ vs. Exlipse')\n",
        "print(stats.ttest_ind(a=x['Below Ground'][~np.isnan(x['Below Ground'])], b=x2['Below Ground'][~np.isnan(x2['Below Ground'])], equal_var=False)[1])\n",
        "print(stats.ttest_ind(a=x['Ground-Level'][~np.isnan(x['Ground-Level'])], b=x2['Ground-Level'][~np.isnan(x2['Ground-Level'])], equal_var=False)[1])\n",
        "print(stats.ttest_ind(a=x['Above Ground'][~np.isnan(x['Above Ground'])], b=x2['Above Ground'][~np.isnan(x2['Above Ground'])], equal_var=False)[1])\n",
        "\n",
        "print('Comparing Eclipse: Above-Below')\n",
        "print(stats.ttest_ind(a=x['Above Ground'][~np.isnan(x['Above Ground'])], b=x['Below Ground'][~np.isnan(x['Below Ground'])], equal_var=True)[1])\n",
        "\n",
        "print('Comparing CMAQ: Above-Below')\n",
        "print(stats.ttest_ind(a=x2['Above Ground'][~np.isnan(x2['Above Ground'])], b=x2['Below Ground'][~np.isnan(x2['Below Ground'])], equal_var=True)[1])\n",
        "\n",
        "print(\"diff between belowground-above eclipse:\")\n",
        "print(np.mean(x['Below Ground']) - np.mean(x['Above Ground']))"
      ]
    },
    {
      "cell_type": "code",
      "execution_count": null,
      "metadata": {
        "jupyter": {
          "outputs_hidden": false,
          "source_hidden": false
        },
        "nteract": {
          "transient": {
            "deleting": false
          }
        }
      },
      "outputs": [],
      "source": [
        "ec = pd.read_csv('')"
      ]
    },
    {
      "cell_type": "code",
      "execution_count": 58,
      "metadata": {
        "jupyter": {
          "outputs_hidden": false,
          "source_hidden": false
        },
        "nteract": {
          "transient": {
            "deleting": false
          }
        }
      },
      "outputs": [
        {
          "data": {
            "text/plain": [
              "Index(['Unnamed: 0', 'DeviceId', 'Unnamed: 0.1', 'Latitude', 'Longitude', 'CO',\n",
              "       'SO2', 'NO2', 'O3', 'TempC', 'Humidity', 'Pressure', 'PM25', 'PM10',\n",
              "       'PM1', 'VBat', 'Signal', 'MSRDeviceNbr', 'FWVersion', 'RawCO', 'RawSO2',\n",
              "       'RawNO2', 'RawO3', 'AQI', 'ExtTempC', 'PMConc05', 'PMConc1', 'PMConc25',\n",
              "       'PMConc10', 'PMTypSize', 'OutlierInd', 'CalibratedPM25',\n",
              "       'CalibratedNO2', 'latlon', 'BENZENE', 'FORM', 'NO', 'NOX', 'PBLH',\n",
              "       'PM25_EC', 'PM25_HP', 'PM25_NO3', 'PM25_OC', 'PM25_SOIL', 'PM25_TOT',\n",
              "       'RH', 'SFC_TMP', 'U10', 'V10', 'VOC', 'precip', 'xx', 'datetime'],\n",
              "      dtype='object')"
            ]
          },
          "execution_count": 58,
          "metadata": {},
          "output_type": "execute_result"
        }
      ],
      "source": [
        "ec.columns"
      ]
    },
    {
      "cell_type": "code",
      "execution_count": 60,
      "metadata": {
        "jupyter": {
          "outputs_hidden": false,
          "source_hidden": false
        },
        "nteract": {
          "transient": {
            "deleting": false
          }
        }
      },
      "outputs": [
        {
          "data": {
            "text/plain": [
              "34968    1.542500\n",
              "34969    1.353636\n",
              "34970    1.425000\n",
              "34971    0.989167\n",
              "34972    0.980909\n",
              "           ...   \n",
              "35707    1.887273\n",
              "35708    1.695000\n",
              "35709    1.696667\n",
              "35710    1.778182\n",
              "35711    1.560000\n",
              "Name: CalibratedNO2, Length: 744, dtype: float64"
            ]
          },
          "execution_count": 60,
          "metadata": {},
          "output_type": "execute_result"
        }
      ],
      "source": [
        "ec[ec.DeviceId == 2062].CalibratedNO2"
      ]
    },
    {
      "cell_type": "code",
      "execution_count": 333,
      "metadata": {
        "jupyter": {
          "outputs_hidden": false,
          "source_hidden": false
        },
        "nteract": {
          "transient": {
            "deleting": false
          }
        }
      },
      "outputs": [
        {
          "data": {
            "text/html": [
              "<div>\n",
              "<style scoped>\n",
              "    .dataframe tbody tr th:only-of-type {\n",
              "        vertical-align: middle;\n",
              "    }\n",
              "\n",
              "    .dataframe tbody tr th {\n",
              "        vertical-align: top;\n",
              "    }\n",
              "\n",
              "    .dataframe thead th {\n",
              "        text-align: right;\n",
              "    }\n",
              "</style>\n",
              "<table border=\"1\" class=\"dataframe\">\n",
              "  <thead>\n",
              "    <tr style=\"text-align: right;\">\n",
              "      <th></th>\n",
              "      <th>Unnamed: 0.1</th>\n",
              "      <th>DeviceId</th>\n",
              "      <th>Unnamed: 0.1.1</th>\n",
              "      <th>Latitude</th>\n",
              "      <th>Longitude</th>\n",
              "      <th>CO</th>\n",
              "      <th>SO2</th>\n",
              "      <th>NO2</th>\n",
              "      <th>O3</th>\n",
              "      <th>TempC</th>\n",
              "      <th>...</th>\n",
              "      <th>PM25_SOIL</th>\n",
              "      <th>PM25_TOT</th>\n",
              "      <th>RH</th>\n",
              "      <th>SFC_TMP</th>\n",
              "      <th>U10</th>\n",
              "      <th>V10</th>\n",
              "      <th>VOC</th>\n",
              "      <th>precip</th>\n",
              "      <th>xx</th>\n",
              "      <th>dt</th>\n",
              "    </tr>\n",
              "  </thead>\n",
              "  <tbody>\n",
              "    <tr>\n",
              "      <th>0</th>\n",
              "      <td>2021-08-01 00:00:00</td>\n",
              "      <td>2136</td>\n",
              "      <td>735165.5</td>\n",
              "      <td>41.921581</td>\n",
              "      <td>-87.6779</td>\n",
              "      <td>283.250610</td>\n",
              "      <td>0.629431</td>\n",
              "      <td>11.367180</td>\n",
              "      <td>55.374599</td>\n",
              "      <td>28.006344</td>\n",
              "      <td>...</td>\n",
              "      <td>2.698906</td>\n",
              "      <td>11.354993</td>\n",
              "      <td>39.519768</td>\n",
              "      <td>27.831482</td>\n",
              "      <td>0.188784</td>\n",
              "      <td>-1.069935</td>\n",
              "      <td>60.758419</td>\n",
              "      <td>0.187898</td>\n",
              "      <td>(123, 139)</td>\n",
              "      <td>2021-08-01 00:00:00</td>\n",
              "    </tr>\n",
              "    <tr>\n",
              "      <th>1</th>\n",
              "      <td>2021-08-01 01:00:00</td>\n",
              "      <td>2136</td>\n",
              "      <td>735154.0</td>\n",
              "      <td>41.921581</td>\n",
              "      <td>-87.6779</td>\n",
              "      <td>500.182739</td>\n",
              "      <td>1.415413</td>\n",
              "      <td>31.782146</td>\n",
              "      <td>33.148540</td>\n",
              "      <td>26.751126</td>\n",
              "      <td>...</td>\n",
              "      <td>5.342179</td>\n",
              "      <td>23.034973</td>\n",
              "      <td>46.052631</td>\n",
              "      <td>26.352112</td>\n",
              "      <td>-0.468434</td>\n",
              "      <td>-0.240831</td>\n",
              "      <td>135.114807</td>\n",
              "      <td>0.187898</td>\n",
              "      <td>(123, 139)</td>\n",
              "      <td>2021-08-01 01:00:00</td>\n",
              "    </tr>\n",
              "    <tr>\n",
              "      <th>2</th>\n",
              "      <td>2021-08-01 02:00:00</td>\n",
              "      <td>2136</td>\n",
              "      <td>735142.5</td>\n",
              "      <td>41.921581</td>\n",
              "      <td>-87.6779</td>\n",
              "      <td>408.035736</td>\n",
              "      <td>1.628307</td>\n",
              "      <td>29.383326</td>\n",
              "      <td>18.290941</td>\n",
              "      <td>25.812925</td>\n",
              "      <td>...</td>\n",
              "      <td>5.482185</td>\n",
              "      <td>18.707493</td>\n",
              "      <td>52.642487</td>\n",
              "      <td>24.821472</td>\n",
              "      <td>0.908163</td>\n",
              "      <td>0.618858</td>\n",
              "      <td>138.883698</td>\n",
              "      <td>0.187898</td>\n",
              "      <td>(123, 139)</td>\n",
              "      <td>2021-08-01 02:00:00</td>\n",
              "    </tr>\n",
              "    <tr>\n",
              "      <th>3</th>\n",
              "      <td>2021-08-01 03:00:00</td>\n",
              "      <td>2136</td>\n",
              "      <td>735130.5</td>\n",
              "      <td>41.921581</td>\n",
              "      <td>-87.6779</td>\n",
              "      <td>304.643616</td>\n",
              "      <td>0.896835</td>\n",
              "      <td>19.863340</td>\n",
              "      <td>21.842386</td>\n",
              "      <td>25.170720</td>\n",
              "      <td>...</td>\n",
              "      <td>5.728775</td>\n",
              "      <td>18.933851</td>\n",
              "      <td>59.602417</td>\n",
              "      <td>23.693634</td>\n",
              "      <td>1.599625</td>\n",
              "      <td>0.914898</td>\n",
              "      <td>102.512405</td>\n",
              "      <td>0.187898</td>\n",
              "      <td>(123, 139)</td>\n",
              "      <td>2021-08-01 03:00:00</td>\n",
              "    </tr>\n",
              "    <tr>\n",
              "      <th>4</th>\n",
              "      <td>2021-08-01 04:00:00</td>\n",
              "      <td>2136</td>\n",
              "      <td>735119.0</td>\n",
              "      <td>41.921581</td>\n",
              "      <td>-87.6779</td>\n",
              "      <td>236.355469</td>\n",
              "      <td>0.685735</td>\n",
              "      <td>14.758755</td>\n",
              "      <td>22.522469</td>\n",
              "      <td>24.634316</td>\n",
              "      <td>...</td>\n",
              "      <td>4.857190</td>\n",
              "      <td>15.592884</td>\n",
              "      <td>65.297874</td>\n",
              "      <td>22.739227</td>\n",
              "      <td>1.841673</td>\n",
              "      <td>1.120171</td>\n",
              "      <td>79.571693</td>\n",
              "      <td>0.187898</td>\n",
              "      <td>(123, 139)</td>\n",
              "      <td>2021-08-01 04:00:00</td>\n",
              "    </tr>\n",
              "    <tr>\n",
              "      <th>...</th>\n",
              "      <td>...</td>\n",
              "      <td>...</td>\n",
              "      <td>...</td>\n",
              "      <td>...</td>\n",
              "      <td>...</td>\n",
              "      <td>...</td>\n",
              "      <td>...</td>\n",
              "      <td>...</td>\n",
              "      <td>...</td>\n",
              "      <td>...</td>\n",
              "      <td>...</td>\n",
              "      <td>...</td>\n",
              "      <td>...</td>\n",
              "      <td>...</td>\n",
              "      <td>...</td>\n",
              "      <td>...</td>\n",
              "      <td>...</td>\n",
              "      <td>...</td>\n",
              "      <td>...</td>\n",
              "      <td>...</td>\n",
              "      <td>...</td>\n",
              "    </tr>\n",
              "    <tr>\n",
              "      <th>739</th>\n",
              "      <td>2021-08-31 19:00:00</td>\n",
              "      <td>2136</td>\n",
              "      <td>726782.0</td>\n",
              "      <td>41.921581</td>\n",
              "      <td>-87.6779</td>\n",
              "      <td>160.913361</td>\n",
              "      <td>0.931143</td>\n",
              "      <td>3.368696</td>\n",
              "      <td>47.829231</td>\n",
              "      <td>29.562697</td>\n",
              "      <td>...</td>\n",
              "      <td>0.671031</td>\n",
              "      <td>5.396742</td>\n",
              "      <td>52.139576</td>\n",
              "      <td>26.427887</td>\n",
              "      <td>-3.400907</td>\n",
              "      <td>-1.481641</td>\n",
              "      <td>21.728268</td>\n",
              "      <td>125.519073</td>\n",
              "      <td>(123, 139)</td>\n",
              "      <td>2021-08-31 19:00:00</td>\n",
              "    </tr>\n",
              "    <tr>\n",
              "      <th>740</th>\n",
              "      <td>2021-08-31 20:00:00</td>\n",
              "      <td>2136</td>\n",
              "      <td>726770.5</td>\n",
              "      <td>41.921581</td>\n",
              "      <td>-87.6779</td>\n",
              "      <td>167.762558</td>\n",
              "      <td>0.504359</td>\n",
              "      <td>3.394891</td>\n",
              "      <td>44.877285</td>\n",
              "      <td>28.505688</td>\n",
              "      <td>...</td>\n",
              "      <td>0.661490</td>\n",
              "      <td>4.496163</td>\n",
              "      <td>50.587791</td>\n",
              "      <td>26.430023</td>\n",
              "      <td>-3.503312</td>\n",
              "      <td>-1.739476</td>\n",
              "      <td>22.895237</td>\n",
              "      <td>125.519073</td>\n",
              "      <td>(123, 139)</td>\n",
              "      <td>2021-08-31 20:00:00</td>\n",
              "    </tr>\n",
              "    <tr>\n",
              "      <th>741</th>\n",
              "      <td>2021-08-31 21:00:00</td>\n",
              "      <td>2136</td>\n",
              "      <td>726759.5</td>\n",
              "      <td>41.921581</td>\n",
              "      <td>-87.6779</td>\n",
              "      <td>174.899979</td>\n",
              "      <td>0.358186</td>\n",
              "      <td>3.578000</td>\n",
              "      <td>42.222771</td>\n",
              "      <td>28.464699</td>\n",
              "      <td>...</td>\n",
              "      <td>0.677095</td>\n",
              "      <td>3.967630</td>\n",
              "      <td>51.528198</td>\n",
              "      <td>26.224274</td>\n",
              "      <td>-3.463934</td>\n",
              "      <td>-2.316332</td>\n",
              "      <td>24.335913</td>\n",
              "      <td>125.519073</td>\n",
              "      <td>(123, 139)</td>\n",
              "      <td>2021-08-31 21:00:00</td>\n",
              "    </tr>\n",
              "    <tr>\n",
              "      <th>742</th>\n",
              "      <td>2021-08-31 22:00:00</td>\n",
              "      <td>2136</td>\n",
              "      <td>726748.5</td>\n",
              "      <td>41.921581</td>\n",
              "      <td>-87.6779</td>\n",
              "      <td>174.899979</td>\n",
              "      <td>0.358186</td>\n",
              "      <td>3.578000</td>\n",
              "      <td>42.222771</td>\n",
              "      <td>27.528585</td>\n",
              "      <td>...</td>\n",
              "      <td>0.677095</td>\n",
              "      <td>3.967630</td>\n",
              "      <td>51.528198</td>\n",
              "      <td>26.224274</td>\n",
              "      <td>-3.463934</td>\n",
              "      <td>-2.316332</td>\n",
              "      <td>24.335913</td>\n",
              "      <td>125.519073</td>\n",
              "      <td>(123, 139)</td>\n",
              "      <td>2021-08-31 22:00:00</td>\n",
              "    </tr>\n",
              "    <tr>\n",
              "      <th>743</th>\n",
              "      <td>2021-08-31 23:00:00</td>\n",
              "      <td>2136</td>\n",
              "      <td>726736.5</td>\n",
              "      <td>41.921581</td>\n",
              "      <td>-87.6779</td>\n",
              "      <td>174.899979</td>\n",
              "      <td>0.358186</td>\n",
              "      <td>3.578000</td>\n",
              "      <td>42.222771</td>\n",
              "      <td>26.684996</td>\n",
              "      <td>...</td>\n",
              "      <td>0.677095</td>\n",
              "      <td>3.967630</td>\n",
              "      <td>51.528198</td>\n",
              "      <td>26.224274</td>\n",
              "      <td>-3.463934</td>\n",
              "      <td>-2.316332</td>\n",
              "      <td>24.335913</td>\n",
              "      <td>125.519073</td>\n",
              "      <td>(123, 139)</td>\n",
              "      <td>2021-08-31 23:00:00</td>\n",
              "    </tr>\n",
              "  </tbody>\n",
              "</table>\n",
              "<p>744 rows × 53 columns</p>\n",
              "</div>"
            ],
            "text/plain": [
              "            Unnamed: 0.1  DeviceId  Unnamed: 0.1.1   Latitude  Longitude  \\\n",
              "0    2021-08-01 00:00:00      2136        735165.5  41.921581   -87.6779   \n",
              "1    2021-08-01 01:00:00      2136        735154.0  41.921581   -87.6779   \n",
              "2    2021-08-01 02:00:00      2136        735142.5  41.921581   -87.6779   \n",
              "3    2021-08-01 03:00:00      2136        735130.5  41.921581   -87.6779   \n",
              "4    2021-08-01 04:00:00      2136        735119.0  41.921581   -87.6779   \n",
              "..                   ...       ...             ...        ...        ...   \n",
              "739  2021-08-31 19:00:00      2136        726782.0  41.921581   -87.6779   \n",
              "740  2021-08-31 20:00:00      2136        726770.5  41.921581   -87.6779   \n",
              "741  2021-08-31 21:00:00      2136        726759.5  41.921581   -87.6779   \n",
              "742  2021-08-31 22:00:00      2136        726748.5  41.921581   -87.6779   \n",
              "743  2021-08-31 23:00:00      2136        726736.5  41.921581   -87.6779   \n",
              "\n",
              "             CO       SO2        NO2         O3      TempC  ...  PM25_SOIL  \\\n",
              "0    283.250610  0.629431  11.367180  55.374599  28.006344  ...   2.698906   \n",
              "1    500.182739  1.415413  31.782146  33.148540  26.751126  ...   5.342179   \n",
              "2    408.035736  1.628307  29.383326  18.290941  25.812925  ...   5.482185   \n",
              "3    304.643616  0.896835  19.863340  21.842386  25.170720  ...   5.728775   \n",
              "4    236.355469  0.685735  14.758755  22.522469  24.634316  ...   4.857190   \n",
              "..          ...       ...        ...        ...        ...  ...        ...   \n",
              "739  160.913361  0.931143   3.368696  47.829231  29.562697  ...   0.671031   \n",
              "740  167.762558  0.504359   3.394891  44.877285  28.505688  ...   0.661490   \n",
              "741  174.899979  0.358186   3.578000  42.222771  28.464699  ...   0.677095   \n",
              "742  174.899979  0.358186   3.578000  42.222771  27.528585  ...   0.677095   \n",
              "743  174.899979  0.358186   3.578000  42.222771  26.684996  ...   0.677095   \n",
              "\n",
              "      PM25_TOT         RH    SFC_TMP       U10       V10         VOC  \\\n",
              "0    11.354993  39.519768  27.831482  0.188784 -1.069935   60.758419   \n",
              "1    23.034973  46.052631  26.352112 -0.468434 -0.240831  135.114807   \n",
              "2    18.707493  52.642487  24.821472  0.908163  0.618858  138.883698   \n",
              "3    18.933851  59.602417  23.693634  1.599625  0.914898  102.512405   \n",
              "4    15.592884  65.297874  22.739227  1.841673  1.120171   79.571693   \n",
              "..         ...        ...        ...       ...       ...         ...   \n",
              "739   5.396742  52.139576  26.427887 -3.400907 -1.481641   21.728268   \n",
              "740   4.496163  50.587791  26.430023 -3.503312 -1.739476   22.895237   \n",
              "741   3.967630  51.528198  26.224274 -3.463934 -2.316332   24.335913   \n",
              "742   3.967630  51.528198  26.224274 -3.463934 -2.316332   24.335913   \n",
              "743   3.967630  51.528198  26.224274 -3.463934 -2.316332   24.335913   \n",
              "\n",
              "         precip          xx                  dt  \n",
              "0      0.187898  (123, 139) 2021-08-01 00:00:00  \n",
              "1      0.187898  (123, 139) 2021-08-01 01:00:00  \n",
              "2      0.187898  (123, 139) 2021-08-01 02:00:00  \n",
              "3      0.187898  (123, 139) 2021-08-01 03:00:00  \n",
              "4      0.187898  (123, 139) 2021-08-01 04:00:00  \n",
              "..          ...         ...                 ...  \n",
              "739  125.519073  (123, 139) 2021-08-31 19:00:00  \n",
              "740  125.519073  (123, 139) 2021-08-31 20:00:00  \n",
              "741  125.519073  (123, 139) 2021-08-31 21:00:00  \n",
              "742  125.519073  (123, 139) 2021-08-31 22:00:00  \n",
              "743  125.519073  (123, 139) 2021-08-31 23:00:00  \n",
              "\n",
              "[744 rows x 53 columns]"
            ]
          },
          "execution_count": 333,
          "metadata": {},
          "output_type": "execute_result"
        }
      ],
      "source": [
        "eclipse = pd.read_csv('data_cleaned_and_dropped.csv',index_col = 0)\n",
        "eclipse = eclipse[eclipse.DeviceId == 2136].reset_index(drop=True)\n",
        "eclipse['dt'] = pd.to_datetime(eclipse['Unnamed: 0.1'])\n",
        "eclipse"
      ]
    },
    {
      "cell_type": "code",
      "execution_count": 394,
      "metadata": {
        "jupyter": {
          "outputs_hidden": false,
          "source_hidden": false
        },
        "nteract": {
          "transient": {
            "deleting": false
          }
        }
      },
      "outputs": [],
      "source": [
        "d = '/mnt/batch/tasks/shared/LS_root/mounts/clusters/cmaq/code/Users/t-stacym/'\n",
        "ts = pd.read_csv(d+'NO2'+'_082021_epa.csv',index_col=0)\n",
        "\n",
        "ts=ts[ts['xx'] == 122].reset_index()"
      ]
    },
    {
      "cell_type": "code",
      "execution_count": 395,
      "metadata": {
        "jupyter": {
          "outputs_hidden": false,
          "source_hidden": false
        },
        "nteract": {
          "transient": {
            "deleting": false
          }
        }
      },
      "outputs": [],
      "source": [
        "ts['ReadingDateTimeUTC'] = pd.to_datetime(ts['ReadingDateTimeUTC'])"
      ]
    },
    {
      "cell_type": "code",
      "execution_count": 396,
      "metadata": {
        "jupyter": {
          "outputs_hidden": false,
          "source_hidden": false
        },
        "nteract": {
          "transient": {
            "deleting": false
          }
        }
      },
      "outputs": [
        {
          "data": {
            "text/plain": [
              "Index(['index', 'site_number', 'ReadingDateTimeUTC', 'poc', 'latitude',\n",
              "       'longitude', 'sample_measurement', 'detection_limit', 'CMAQ_NO2', 'xx',\n",
              "       'yy', 'hour', 'sitenum'],\n",
              "      dtype='object')"
            ]
          },
          "execution_count": 396,
          "metadata": {},
          "output_type": "execute_result"
        }
      ],
      "source": [
        "ts.columns"
      ]
    },
    {
      "cell_type": "code",
      "execution_count": 397,
      "metadata": {
        "jupyter": {
          "outputs_hidden": false,
          "source_hidden": false
        },
        "nteract": {
          "transient": {
            "deleting": false
          }
        }
      },
      "outputs": [
        {
          "name": "stderr",
          "output_type": "stream",
          "text": [
            "<ipython-input-397-0abfef5a0a40>:10: SettingWithCopyWarning: \n",
            "A value is trying to be set on a copy of a slice from a DataFrame.\n",
            "Try using .loc[row_indexer,col_indexer] = value instead\n",
            "\n",
            "See the caveats in the documentation: https://pandas.pydata.org/pandas-docs/stable/user_guide/indexing.html#returning-a-view-versus-a-copy\n",
            "  epa['DataSource'] = 'EPA'\n",
            "<ipython-input-397-0abfef5a0a40>:11: SettingWithCopyWarning: \n",
            "A value is trying to be set on a copy of a slice from a DataFrame.\n",
            "Try using .loc[row_indexer,col_indexer] = value instead\n",
            "\n",
            "See the caveats in the documentation: https://pandas.pydata.org/pandas-docs/stable/user_guide/indexing.html#returning-a-view-versus-a-copy\n",
            "  cmaq['DataSource'] = 'CMAQ'\n",
            "<ipython-input-397-0abfef5a0a40>:12: SettingWithCopyWarning: \n",
            "A value is trying to be set on a copy of a slice from a DataFrame.\n",
            "Try using .loc[row_indexer,col_indexer] = value instead\n",
            "\n",
            "See the caveats in the documentation: https://pandas.pydata.org/pandas-docs/stable/user_guide/indexing.html#returning-a-view-versus-a-copy\n",
            "  ec['DataSource'] = 'Eclipse'\n",
            "/anaconda/envs/azureml_py38/lib/python3.8/site-packages/IPython/core/interactiveshell.py:3369: FutureWarning: This dataframe has a column name that matches the 'value_name' column name of the resultiing Dataframe. In the future this will raise an error, please set the 'value_name' parameter of DataFrame.melt to a unique name.\n",
            "  exec(code_obj, self.user_global_ns, self.user_ns)\n"
          ]
        }
      ],
      "source": [
        "cmaq = ts[['ReadingDateTimeUTC','CMAQ_NO2']]\n",
        "cmaq.columns = ['dt','no2']\n",
        "\n",
        "epa = ts[['ReadingDateTimeUTC','sample_measurement']]\n",
        "epa.columns = ['dt','no2']\n",
        "\n",
        "ec = eclipse[['dt','CalibratedNO2']]\n",
        "ec.columns = ['dt','no2']\n",
        "\n",
        "epa['DataSource'] = 'EPA'\n",
        "cmaq['DataSource'] = 'CMAQ'\n",
        "ec['DataSource'] = 'Eclipse'\n",
        "\n",
        "data = pd.concat([epa, ec, cmaq], axis=0)\n",
        "#df = pd.concat([x,x2])\n",
        "#df_m = pd.melt(df, id_vars=['DataSource'],var_name='data', value_name='StandardizedNO2')\n",
        "data = pd.melt(data, id_vars=['DataSource','dt'],var_name='data', value_name='no2')\n",
        "data = data[data.DataSource!='1']\n",
        "data = data[data.DataSource!=1]"
      ]
    },
    {
      "cell_type": "code",
      "execution_count": 399,
      "metadata": {
        "jupyter": {
          "outputs_hidden": false,
          "source_hidden": false
        },
        "nteract": {
          "transient": {
            "deleting": false
          }
        }
      },
      "outputs": [
        {
          "data": {
            "image/png": "[encoded data removed]",
            "text/plain": [
              "<Figure size 1100x300 with 1 Axes>"
            ]
          },
          "metadata": {},
          "output_type": "display_data"
        }
      ],
      "source": [
        "palette =sns.color_palette(\"Set2\",3)\n",
        "\n",
        "fig,ax= plt.subplots(figsize=(11,3))\n",
        "\n",
        "\n",
        "sns.lineplot(x='dt',y='no2',data=data,hue=\"DataSource\",palette=palette,ax=ax,\n",
        "                alpha=0.9,zorder=1000,linewidth = 1.5)#, edgecolor='k',s= 20)\n",
        "\n",
        "ax.set_ylim([0,60])\n",
        "plt.legend(bbox_to_anchor=(1.02, 1), loc='upper left', borderaxespad=0)\n",
        "plt.tight_layout()\n",
        "ax.set_ylabel(r'NO$_2$ (ppb)')\n",
        "ax.set_xlim([data.dt.min(),data.dt.max()])\n",
        "ax.grid()\n",
        "ax.set_title('(a) Hourly NO$_2$ at EPA Kennedy Station')\n",
        "plt.show()\n",
        "\n"
      ]
    },
    {
      "cell_type": "code",
      "execution_count": 400,
      "metadata": {
        "jupyter": {
          "outputs_hidden": false,
          "source_hidden": false
        },
        "nteract": {
          "transient": {
            "deleting": false
          }
        }
      },
      "outputs": [
        {
          "data": {
            "text/html": [
              "<div>\n",
              "<style scoped>\n",
              "    .dataframe tbody tr th:only-of-type {\n",
              "        vertical-align: middle;\n",
              "    }\n",
              "\n",
              "    .dataframe tbody tr th {\n",
              "        vertical-align: top;\n",
              "    }\n",
              "\n",
              "    .dataframe thead th {\n",
              "        text-align: right;\n",
              "    }\n",
              "</style>\n",
              "<table border=\"1\" class=\"dataframe\">\n",
              "  <thead>\n",
              "    <tr style=\"text-align: right;\">\n",
              "      <th></th>\n",
              "      <th>no2</th>\n",
              "    </tr>\n",
              "    <tr>\n",
              "      <th>DataSource</th>\n",
              "      <th></th>\n",
              "    </tr>\n",
              "  </thead>\n",
              "  <tbody>\n",
              "    <tr>\n",
              "      <th>CMAQ</th>\n",
              "      <td>19.164789</td>\n",
              "    </tr>\n",
              "    <tr>\n",
              "      <th>EPA</th>\n",
              "      <td>13.889959</td>\n",
              "    </tr>\n",
              "    <tr>\n",
              "      <th>Eclipse</th>\n",
              "      <td>9.415527</td>\n",
              "    </tr>\n",
              "  </tbody>\n",
              "</table>\n",
              "</div>"
            ],
            "text/plain": [
              "                  no2\n",
              "DataSource           \n",
              "CMAQ        19.164789\n",
              "EPA         13.889959\n",
              "Eclipse      9.415527"
            ]
          },
          "execution_count": 400,
          "metadata": {},
          "output_type": "execute_result"
        }
      ],
      "source": [
        "data.groupby('DataSource').mean()\n"
      ]
    },
    {
      "cell_type": "code",
      "execution_count": 401,
      "metadata": {
        "jupyter": {
          "outputs_hidden": false,
          "source_hidden": false
        },
        "nteract": {
          "transient": {
            "deleting": false
          }
        }
      },
      "outputs": [
        {
          "data": {
            "text/html": [
              "<div>\n",
              "<style scoped>\n",
              "    .dataframe tbody tr th:only-of-type {\n",
              "        vertical-align: middle;\n",
              "    }\n",
              "\n",
              "    .dataframe tbody tr th {\n",
              "        vertical-align: top;\n",
              "    }\n",
              "\n",
              "    .dataframe thead th {\n",
              "        text-align: right;\n",
              "    }\n",
              "</style>\n",
              "<table border=\"1\" class=\"dataframe\">\n",
              "  <thead>\n",
              "    <tr style=\"text-align: right;\">\n",
              "      <th></th>\n",
              "      <th>no2</th>\n",
              "    </tr>\n",
              "    <tr>\n",
              "      <th>DataSource</th>\n",
              "      <th></th>\n",
              "    </tr>\n",
              "  </thead>\n",
              "  <tbody>\n",
              "    <tr>\n",
              "      <th>CMAQ</th>\n",
              "      <td>9.597728</td>\n",
              "    </tr>\n",
              "    <tr>\n",
              "      <th>EPA</th>\n",
              "      <td>8.458333</td>\n",
              "    </tr>\n",
              "    <tr>\n",
              "      <th>Eclipse</th>\n",
              "      <td>7.341147</td>\n",
              "    </tr>\n",
              "  </tbody>\n",
              "</table>\n",
              "</div>"
            ],
            "text/plain": [
              "                 no2\n",
              "DataSource          \n",
              "CMAQ        9.597728\n",
              "EPA         8.458333\n",
              "Eclipse     7.341147"
            ]
          },
          "execution_count": 401,
          "metadata": {},
          "output_type": "execute_result"
        }
      ],
      "source": [
        "data[(data.dt.dt.hour > 8+6) & (data.dt.dt.hour < 16+6)].groupby(\"DataSource\").mean()"
      ]
    },
    {
      "cell_type": "code",
      "execution_count": 402,
      "metadata": {
        "jupyter": {
          "outputs_hidden": false,
          "source_hidden": false
        },
        "nteract": {
          "transient": {
            "deleting": false
          }
        }
      },
      "outputs": [
        {
          "data": {
            "text/html": [
              "<div>\n",
              "<style scoped>\n",
              "    .dataframe tbody tr th:only-of-type {\n",
              "        vertical-align: middle;\n",
              "    }\n",
              "\n",
              "    .dataframe tbody tr th {\n",
              "        vertical-align: top;\n",
              "    }\n",
              "\n",
              "    .dataframe thead th {\n",
              "        text-align: right;\n",
              "    }\n",
              "</style>\n",
              "<table border=\"1\" class=\"dataframe\">\n",
              "  <thead>\n",
              "    <tr style=\"text-align: right;\">\n",
              "      <th></th>\n",
              "      <th>no2</th>\n",
              "    </tr>\n",
              "    <tr>\n",
              "      <th>DataSource</th>\n",
              "      <th></th>\n",
              "    </tr>\n",
              "  </thead>\n",
              "  <tbody>\n",
              "    <tr>\n",
              "      <th>CMAQ</th>\n",
              "      <td>24.291642</td>\n",
              "    </tr>\n",
              "    <tr>\n",
              "      <th>EPA</th>\n",
              "      <td>16.611015</td>\n",
              "    </tr>\n",
              "    <tr>\n",
              "      <th>Eclipse</th>\n",
              "      <td>10.403101</td>\n",
              "    </tr>\n",
              "  </tbody>\n",
              "</table>\n",
              "</div>"
            ],
            "text/plain": [
              "                  no2\n",
              "DataSource           \n",
              "CMAQ        24.291642\n",
              "EPA         16.611015\n",
              "Eclipse     10.403101"
            ]
          },
          "execution_count": 402,
          "metadata": {},
          "output_type": "execute_result"
        }
      ],
      "source": [
        "data[(data.dt.dt.hour < 8+6) | (data.dt.dt.hour > 16+6)].groupby(\"DataSource\").mean()"
      ]
    },
    {
      "cell_type": "code",
      "execution_count": 387,
      "metadata": {
        "jupyter": {
          "outputs_hidden": false,
          "source_hidden": false
        },
        "nteract": {
          "transient": {
            "deleting": false
          }
        }
      },
      "outputs": [],
      "source": [
        "def quick_stats(x,y):\n",
        "    r = np.corrcoef(x,y)[1][0]\n",
        "    mb = np.mean(x-y)\n",
        "    rmse = np.sqrt(np.square(x-y).mean())\n",
        "    return r,mb,rmse,np.mean(y)\n",
        "\n",
        "x = data[data.DataSource == 'EPA']['no2'].reset_index(drop=True)\n",
        "y = data[data.DataSource == 'CMAQ']['no2'].reset_index(drop=True)\n",
        "y=y[~np.isnan(x)]\n",
        "x=x[~np.isnan(x)]\n",
        "\n",
        "model_epa = quick_stats(x,y)"
      ]
    },
    {
      "cell_type": "code",
      "execution_count": 388,
      "metadata": {
        "jupyter": {
          "outputs_hidden": false,
          "source_hidden": false
        },
        "nteract": {
          "transient": {
            "deleting": false
          }
        }
      },
      "outputs": [],
      "source": [
        "x = data[data.DataSource == 'EPA']['no2'].reset_index(drop=True)\n",
        "y = data[data.DataSource == 'Eclipse']['no2'][:-2].reset_index(drop=True)\n",
        "y = y[~np.isnan(x)]\n",
        "x = x[~np.isnan(x)]\n",
        "\n",
        "x=x[~np.isnan(y)]\n",
        "y=y[~np.isnan(y)]\n",
        "\n",
        "ec_epa = quick_stats(x,y)"
      ]
    },
    {
      "cell_type": "code",
      "execution_count": 389,
      "metadata": {
        "jupyter": {
          "outputs_hidden": false,
          "source_hidden": false
        },
        "nteract": {
          "transient": {
            "deleting": false
          }
        }
      },
      "outputs": [
        {
          "data": {
            "text/html": [
              "<div>\n",
              "<style scoped>\n",
              "    .dataframe tbody tr th:only-of-type {\n",
              "        vertical-align: middle;\n",
              "    }\n",
              "\n",
              "    .dataframe tbody tr th {\n",
              "        vertical-align: top;\n",
              "    }\n",
              "\n",
              "    .dataframe thead th {\n",
              "        text-align: right;\n",
              "    }\n",
              "</style>\n",
              "<table border=\"1\" class=\"dataframe\">\n",
              "  <thead>\n",
              "    <tr style=\"text-align: right;\">\n",
              "      <th></th>\n",
              "      <th>0</th>\n",
              "      <th>1</th>\n",
              "      <th>2</th>\n",
              "      <th>3</th>\n",
              "    </tr>\n",
              "  </thead>\n",
              "  <tbody>\n",
              "    <tr>\n",
              "      <th>0</th>\n",
              "      <td>0.629383</td>\n",
              "      <td>4.601607</td>\n",
              "      <td>8.837493</td>\n",
              "      <td>9.437149</td>\n",
              "    </tr>\n",
              "    <tr>\n",
              "      <th>1</th>\n",
              "      <td>0.625956</td>\n",
              "      <td>-5.427637</td>\n",
              "      <td>11.416294</td>\n",
              "      <td>19.317595</td>\n",
              "    </tr>\n",
              "  </tbody>\n",
              "</table>\n",
              "</div>"
            ],
            "text/plain": [
              "          0         1          2          3\n",
              "0  0.629383  4.601607   8.837493   9.437149\n",
              "1  0.625956 -5.427637  11.416294  19.317595"
            ]
          },
          "execution_count": 389,
          "metadata": {},
          "output_type": "execute_result"
        }
      ],
      "source": [
        "pd.DataFrame([ec_epa,model_epa])"
      ]
    },
    {
      "cell_type": "markdown",
      "metadata": {
        "nteract": {
          "transient": {
            "deleting": false
          }
        }
      },
      "source": [
        "# get daytime/nighttime perfromance"
      ]
    },
    {
      "cell_type": "code",
      "execution_count": 413,
      "metadata": {
        "jupyter": {
          "outputs_hidden": false,
          "source_hidden": false
        },
        "nteract": {
          "transient": {
            "deleting": false
          }
        }
      },
      "outputs": [],
      "source": [
        "data = data.groupby(['dt','DataSource']).mean().reset_index()"
      ]
    },
    {
      "cell_type": "code",
      "execution_count": 421,
      "metadata": {
        "jupyter": {
          "outputs_hidden": false,
          "source_hidden": false
        },
        "nteract": {
          "transient": {
            "deleting": false
          }
        }
      },
      "outputs": [
        {
          "data": {
            "text/html": [
              "<div>\n",
              "<style scoped>\n",
              "    .dataframe tbody tr th:only-of-type {\n",
              "        vertical-align: middle;\n",
              "    }\n",
              "\n",
              "    .dataframe tbody tr th {\n",
              "        vertical-align: top;\n",
              "    }\n",
              "\n",
              "    .dataframe thead th {\n",
              "        text-align: right;\n",
              "    }\n",
              "</style>\n",
              "<table border=\"1\" class=\"dataframe\">\n",
              "  <thead>\n",
              "    <tr style=\"text-align: right;\">\n",
              "      <th></th>\n",
              "      <th>0</th>\n",
              "      <th>1</th>\n",
              "      <th>2</th>\n",
              "      <th>3</th>\n",
              "    </tr>\n",
              "  </thead>\n",
              "  <tbody>\n",
              "    <tr>\n",
              "      <th>0</th>\n",
              "      <td>0.633925</td>\n",
              "      <td>6.376746</td>\n",
              "      <td>10.514515</td>\n",
              "      <td>10.385393</td>\n",
              "    </tr>\n",
              "    <tr>\n",
              "      <th>1</th>\n",
              "      <td>0.560091</td>\n",
              "      <td>-7.749529</td>\n",
              "      <td>13.054964</td>\n",
              "      <td>24.311217</td>\n",
              "    </tr>\n",
              "  </tbody>\n",
              "</table>\n",
              "</div>"
            ],
            "text/plain": [
              "          0         1          2          3\n",
              "0  0.633925  6.376746  10.514515  10.385393\n",
              "1  0.560091 -7.749529  13.054964  24.311217"
            ]
          },
          "execution_count": 421,
          "metadata": {},
          "output_type": "execute_result"
        }
      ],
      "source": [
        "d = data[(data.dt.dt.hour > 8+6) & (data.dt.dt.hour < 16+6)]\n",
        "d = data[(data.dt.dt.hour < 8+6) | (data.dt.dt.hour > 16+6)]\n",
        "d = d[d.dt < d.dt.unique()[-2]]\n",
        "\n",
        "x = d[d.DataSource == 'EPA']['no2'].reset_index(drop=True)\n",
        "y = d[d.DataSource == 'CMAQ']['no2'].reset_index(drop=True)\n",
        "y=y[~np.isnan(x)]\n",
        "x=x[~np.isnan(x)]\n",
        "\n",
        "model_epa = quick_stats(x,y)\n",
        "\n",
        "x = d[d.DataSource == 'EPA']['no2'].reset_index(drop=True)\n",
        "y = d[d.DataSource == 'Eclipse']['no2'].reset_index(drop=True)\n",
        "y = y[~np.isnan(x)]\n",
        "x = x[~np.isnan(x)]\n",
        "\n",
        "x=x[~np.isnan(y)]\n",
        "y=y[~np.isnan(y)]\n",
        "\n",
        "ec_epa = quick_stats(x,y)\n",
        "\n",
        "pd.DataFrame([ec_epa,model_epa])\n"
      ]
    },
    {
      "cell_type": "code",
      "execution_count": 422,
      "metadata": {
        "jupyter": {
          "outputs_hidden": false,
          "source_hidden": false
        },
        "nteract": {
          "transient": {
            "deleting": false
          }
        }
      },
      "outputs": [],
      "source": [
        "\n",
        "x = d[d.DataSource == 'EPA']['no2'].reset_index(drop=True)\n",
        "y = d[d.DataSource == 'Eclipse']['no2'].reset_index(drop=True)"
      ]
    },
    {
      "cell_type": "code",
      "execution_count": 417,
      "metadata": {
        "jupyter": {
          "outputs_hidden": false,
          "source_hidden": false
        },
        "nteract": {
          "transient": {
            "deleting": false
          }
        }
      },
      "outputs": [
        {
          "data": {
            "text/plain": [
              "array(['2021-08-31T13:00:00.000000000', '2021-08-31T23:00:00.000000000'],\n",
              "      dtype='datetime64[ns]')"
            ]
          },
          "execution_count": 417,
          "metadata": {},
          "output_type": "execute_result"
        }
      ],
      "source": [
        "d.dt.unique()[-2:]"
      ]
    },
    {
      "cell_type": "code",
      "execution_count": 420,
      "metadata": {
        "jupyter": {
          "outputs_hidden": false,
          "source_hidden": false
        },
        "nteract": {
          "transient": {
            "deleting": false
          }
        }
      },
      "outputs": [
        {
          "data": {
            "text/html": [
              "<div>\n",
              "<style scoped>\n",
              "    .dataframe tbody tr th:only-of-type {\n",
              "        vertical-align: middle;\n",
              "    }\n",
              "\n",
              "    .dataframe tbody tr th {\n",
              "        vertical-align: top;\n",
              "    }\n",
              "\n",
              "    .dataframe thead th {\n",
              "        text-align: right;\n",
              "    }\n",
              "</style>\n",
              "<table border=\"1\" class=\"dataframe\">\n",
              "  <thead>\n",
              "    <tr style=\"text-align: right;\">\n",
              "      <th></th>\n",
              "      <th>dt</th>\n",
              "      <th>DataSource</th>\n",
              "      <th>no2</th>\n",
              "    </tr>\n",
              "  </thead>\n",
              "  <tbody>\n",
              "    <tr>\n",
              "      <th>0</th>\n",
              "      <td>2021-08-01 00:00:00</td>\n",
              "      <td>CMAQ</td>\n",
              "      <td>12.390419</td>\n",
              "    </tr>\n",
              "    <tr>\n",
              "      <th>1</th>\n",
              "      <td>2021-08-01 00:00:00</td>\n",
              "      <td>EPA</td>\n",
              "      <td>4.200000</td>\n",
              "    </tr>\n",
              "    <tr>\n",
              "      <th>2</th>\n",
              "      <td>2021-08-01 00:00:00</td>\n",
              "      <td>Eclipse</td>\n",
              "      <td>6.628333</td>\n",
              "    </tr>\n",
              "    <tr>\n",
              "      <th>3</th>\n",
              "      <td>2021-08-01 01:00:00</td>\n",
              "      <td>CMAQ</td>\n",
              "      <td>31.387794</td>\n",
              "    </tr>\n",
              "    <tr>\n",
              "      <th>4</th>\n",
              "      <td>2021-08-01 01:00:00</td>\n",
              "      <td>EPA</td>\n",
              "      <td>5.000000</td>\n",
              "    </tr>\n",
              "    <tr>\n",
              "      <th>...</th>\n",
              "      <td>...</td>\n",
              "      <td>...</td>\n",
              "      <td>...</td>\n",
              "    </tr>\n",
              "    <tr>\n",
              "      <th>2194</th>\n",
              "      <td>2021-08-31 11:00:00</td>\n",
              "      <td>EPA</td>\n",
              "      <td>43.600000</td>\n",
              "    </tr>\n",
              "    <tr>\n",
              "      <th>2195</th>\n",
              "      <td>2021-08-31 11:00:00</td>\n",
              "      <td>Eclipse</td>\n",
              "      <td>18.278182</td>\n",
              "    </tr>\n",
              "    <tr>\n",
              "      <th>2196</th>\n",
              "      <td>2021-08-31 12:00:00</td>\n",
              "      <td>CMAQ</td>\n",
              "      <td>45.691425</td>\n",
              "    </tr>\n",
              "    <tr>\n",
              "      <th>2197</th>\n",
              "      <td>2021-08-31 12:00:00</td>\n",
              "      <td>EPA</td>\n",
              "      <td>41.100000</td>\n",
              "    </tr>\n",
              "    <tr>\n",
              "      <th>2198</th>\n",
              "      <td>2021-08-31 12:00:00</td>\n",
              "      <td>Eclipse</td>\n",
              "      <td>21.134167</td>\n",
              "    </tr>\n",
              "  </tbody>\n",
              "</table>\n",
              "<p>1389 rows × 3 columns</p>\n",
              "</div>"
            ],
            "text/plain": [
              "                      dt DataSource        no2\n",
              "0    2021-08-01 00:00:00       CMAQ  12.390419\n",
              "1    2021-08-01 00:00:00        EPA   4.200000\n",
              "2    2021-08-01 00:00:00    Eclipse   6.628333\n",
              "3    2021-08-01 01:00:00       CMAQ  31.387794\n",
              "4    2021-08-01 01:00:00        EPA   5.000000\n",
              "...                  ...        ...        ...\n",
              "2194 2021-08-31 11:00:00        EPA  43.600000\n",
              "2195 2021-08-31 11:00:00    Eclipse  18.278182\n",
              "2196 2021-08-31 12:00:00       CMAQ  45.691425\n",
              "2197 2021-08-31 12:00:00        EPA  41.100000\n",
              "2198 2021-08-31 12:00:00    Eclipse  21.134167\n",
              "\n",
              "[1389 rows x 3 columns]"
            ]
          },
          "execution_count": 420,
          "metadata": {},
          "output_type": "execute_result"
        }
      ],
      "source": [
        "d[d.dt < d.dt.unique()[-2]]"
      ]
    },
    {
      "cell_type": "code",
      "execution_count": null,
      "metadata": {
        "jupyter": {
          "outputs_hidden": false,
          "source_hidden": false
        },
        "nteract": {
          "transient": {
            "deleting": false
          }
        }
      },
      "outputs": [],
      "source": []
    }
  ],
  "metadata": {
    "kernel_info": {
      "name": "python38-azureml"
    },
    "kernelspec": {
      "display_name": "Python 3.8 - AzureML",
      "language": "python",
      "name": "python38-azureml"
    },
    "language_info": {
      "codemirror_mode": {
        "name": "ipython",
        "version": 3
      },
      "file_extension": ".py",
      "mimetype": "text/x-python",
      "name": "python",
      "nbconvert_exporter": "python",
      "pygments_lexer": "ipython3",
      "version": "3.8.5"
    },
    "nteract": {
      "version": "nteract-front-end@1.0.0"
    }
  },
  "nbformat": 4,
  "nbformat_minor": 0
}
